{
 "cells": [
  {
   "cell_type": "markdown",
   "metadata": {},
   "source": [
    "# Making Bachelorette Demo Dataset\n",
    "### Combining Demographics and Elimination Data\n",
    "### Adding Additional Created Variables"
   ]
  },
  {
   "cell_type": "code",
   "execution_count": 1,
   "metadata": {},
   "outputs": [],
   "source": [
    "# load up libraries\n",
    "import pandas as pd\n",
    "import numpy as np\n",
    "%matplotlib inline"
   ]
  },
  {
   "cell_type": "code",
   "execution_count": 60,
   "metadata": {},
   "outputs": [],
   "source": [
    "# bring in data\n",
    "# read in bachelorette contestant demographic data\n",
    "ette_demo = pd.read_csv(\"ette_cont_occ_group.csv\")\n",
    "\n",
    "# read in elimination data\n",
    "elim = pd.read_csv(\"bachelorette_538.csv\")\n",
    "elim = elim.drop([0])\n",
    "\n",
    "# read in bachelorette data\n",
    "ettes = pd.read_csv(\"bachelorettes.csv\")"
   ]
  },
  {
   "cell_type": "code",
   "execution_count": 61,
   "metadata": {},
   "outputs": [],
   "source": [
    "# only select bachelorette elimination data\n",
    "elim_ette = elim[elim.SHOW == 'Bachelorette'].copy()\n",
    "# keep only numbered seasons\n",
    "elim_ette = elim_ette[elim_ette.SEASON != 'SEASON'].copy()\n",
    "\n",
    "elim_ette['SEASON'] = elim_ette['SEASON'].astype(str).astype(int)\n",
    "elim_ette = elim_ette.merge(ettes, left_on=['SEASON'], right_on=['Season'])"
   ]
  },
  {
   "cell_type": "code",
   "execution_count": 65,
   "metadata": {},
   "outputs": [],
   "source": [
    "elim_ette.columns = [['SHOW', 'SEASON', 'CONTESTANT', 'ELIMINATION-1', 'ELIMINATION-2',\n",
    "       'ELIMINATION-3', 'ELIMINATION-4', 'ELIMINATION-5', 'ELIMINATION-6',\n",
    "       'ELIMINATION-7', 'ELIMINATION-8', 'ELIMINATION-9', 'ELIMINATION-10',\n",
    "       'DATES-1', 'DATES-2', 'DATES-3', 'DATES-4', 'DATES-5', 'DATES-6',\n",
    "       'DATES-7', 'DATES-8', 'DATES-9', 'DATES-10', 'ETTE_NAME', 'ETTE_AGE',\n",
    "       'ETTE_OCC', 'ETTE_HOMETOWN', 'Season']]"
   ]
  },
  {
   "cell_type": "code",
   "execution_count": 69,
   "metadata": {},
   "outputs": [
    {
     "ename": "AttributeError",
     "evalue": "'DataFrame' object has no attribute 'str'",
     "output_type": "error",
     "traceback": [
      "\u001b[1;31m---------------------------------------------------------------------------\u001b[0m",
      "\u001b[1;31mAttributeError\u001b[0m                            Traceback (most recent call last)",
      "\u001b[1;32m<ipython-input-69-4c1ab7a50669>\u001b[0m in \u001b[0;36m<module>\u001b[1;34m()\u001b[0m\n\u001b[0;32m      2\u001b[0m \u001b[1;33m\u001b[0m\u001b[0m\n\u001b[0;32m      3\u001b[0m \u001b[1;31m# split elim CONTESTANT on \"_\"\u001b[0m\u001b[1;33m\u001b[0m\u001b[1;33m\u001b[0m\u001b[0m\n\u001b[1;32m----> 4\u001b[1;33m \u001b[0melim_ette\u001b[0m\u001b[1;33m[\u001b[0m\u001b[1;33m[\u001b[0m\u001b[1;34m'CON_SEASON'\u001b[0m\u001b[1;33m,\u001b[0m \u001b[1;34m'CON_FIRST'\u001b[0m\u001b[1;33m,\u001b[0m \u001b[1;34m'CON_INIT'\u001b[0m\u001b[1;33m]\u001b[0m\u001b[1;33m]\u001b[0m \u001b[1;33m=\u001b[0m \u001b[0melim_ette\u001b[0m\u001b[1;33m[\u001b[0m\u001b[1;34m'CONTESTANT'\u001b[0m\u001b[1;33m]\u001b[0m\u001b[1;33m.\u001b[0m\u001b[0mastype\u001b[0m\u001b[1;33m(\u001b[0m\u001b[0mstr\u001b[0m\u001b[1;33m)\u001b[0m\u001b[1;33m.\u001b[0m\u001b[0mstr\u001b[0m\u001b[1;33m.\u001b[0m\u001b[0msplit\u001b[0m\u001b[1;33m(\u001b[0m\u001b[1;34m'_'\u001b[0m\u001b[1;33m,\u001b[0m\u001b[0mexpand\u001b[0m\u001b[1;33m=\u001b[0m\u001b[1;32mTrue\u001b[0m\u001b[1;33m)\u001b[0m\u001b[1;33m\u001b[0m\u001b[0m\n\u001b[0m\u001b[0;32m      5\u001b[0m \u001b[1;31m#elim_ette.head()\u001b[0m\u001b[1;33m\u001b[0m\u001b[1;33m\u001b[0m\u001b[0m\n\u001b[0;32m      6\u001b[0m \u001b[1;33m\u001b[0m\u001b[0m\n",
      "\u001b[1;32m~\\Anaconda3\\lib\\site-packages\\pandas\\core\\generic.py\u001b[0m in \u001b[0;36m__getattr__\u001b[1;34m(self, name)\u001b[0m\n\u001b[0;32m   4370\u001b[0m             \u001b[1;32mif\u001b[0m \u001b[0mself\u001b[0m\u001b[1;33m.\u001b[0m\u001b[0m_info_axis\u001b[0m\u001b[1;33m.\u001b[0m\u001b[0m_can_hold_identifiers_and_holds_name\u001b[0m\u001b[1;33m(\u001b[0m\u001b[0mname\u001b[0m\u001b[1;33m)\u001b[0m\u001b[1;33m:\u001b[0m\u001b[1;33m\u001b[0m\u001b[0m\n\u001b[0;32m   4371\u001b[0m                 \u001b[1;32mreturn\u001b[0m \u001b[0mself\u001b[0m\u001b[1;33m[\u001b[0m\u001b[0mname\u001b[0m\u001b[1;33m]\u001b[0m\u001b[1;33m\u001b[0m\u001b[0m\n\u001b[1;32m-> 4372\u001b[1;33m             \u001b[1;32mreturn\u001b[0m \u001b[0mobject\u001b[0m\u001b[1;33m.\u001b[0m\u001b[0m__getattribute__\u001b[0m\u001b[1;33m(\u001b[0m\u001b[0mself\u001b[0m\u001b[1;33m,\u001b[0m \u001b[0mname\u001b[0m\u001b[1;33m)\u001b[0m\u001b[1;33m\u001b[0m\u001b[0m\n\u001b[0m\u001b[0;32m   4373\u001b[0m \u001b[1;33m\u001b[0m\u001b[0m\n\u001b[0;32m   4374\u001b[0m     \u001b[1;32mdef\u001b[0m \u001b[0m__setattr__\u001b[0m\u001b[1;33m(\u001b[0m\u001b[0mself\u001b[0m\u001b[1;33m,\u001b[0m \u001b[0mname\u001b[0m\u001b[1;33m,\u001b[0m \u001b[0mvalue\u001b[0m\u001b[1;33m)\u001b[0m\u001b[1;33m:\u001b[0m\u001b[1;33m\u001b[0m\u001b[0m\n",
      "\u001b[1;31mAttributeError\u001b[0m: 'DataFrame' object has no attribute 'str'"
     ]
    }
   ],
   "source": [
    "# setting up data to combine the two sets\n",
    "\n",
    "# split elim CONTESTANT on \"_\"\n",
    "elim_ette[['CON_SEASON', 'CON_FIRST', 'CON_INIT']] = elim_ette['CONTESTANT'].str.split('_',expand=True)\n",
    "#elim_ette.head()\n",
    "\n",
    "# split bach CONTESTANT on \" \",\n",
    "ette_demo[['CON_FIRST', 'CON_LAST', 'CON_OTHER']] = ette_demo['Name'].str.split(' ', expand=True)\n",
    "#ette_demo.head()"
   ]
  },
  {
   "cell_type": "code",
   "execution_count": 5,
   "metadata": {},
   "outputs": [
    {
     "data": {
      "text/plain": [
       "H    26\n",
       "M    26\n",
       "S    21\n",
       "B    21\n",
       "C    15\n",
       "P    14\n",
       "R    12\n",
       "D    12\n",
       "W    12\n",
       "K    11\n",
       "G    10\n",
       "L     9\n",
       "V     8\n",
       "A     8\n",
       "F     7\n",
       "T     7\n",
       "J     6\n",
       "N     5\n",
       "X     4\n",
       "O     3\n",
       "Y     2\n",
       "E     2\n",
       "Z     2\n",
       "Name: INITIAL_FINAL, dtype: int64"
      ]
     },
     "execution_count": 5,
     "metadata": {},
     "output_type": "execute_result"
    }
   ],
   "source": [
    "# make everything uppercase \n",
    "ette_demo.CON_FIRST = ette_demo.CON_FIRST.str.upper()\n",
    "ette_demo.CON_LAST = ette_demo.CON_LAST.str.upper()\n",
    "ette_demo.CON_OTHER = ette_demo.CON_OTHER.str.upper()\n",
    "\n",
    "# keep only first initial of last name\n",
    "ette_demo['CON_LAST2'] = ette_demo.CON_LAST.str[0]\n",
    "ette_demo['CON_LAST3'] = ette_demo.CON_LAST.str[1]\n",
    "ette_demo['CON_OTHER2'] = ette_demo.CON_OTHER.str[0]\n",
    "# iterate through rows in order to keep correct letter\n",
    "# logic will be: \n",
    "# if CON_LAST2 == '\"' or if CON_LAST3 == '.' then keep CON_OTHER2\n",
    "# if CON_OTHER2 == '(' or if CON_OTHER2.isnull then keep CON_LAST2, otherwise keep CON_OTHER2\n",
    "\n",
    "ette_demo['INITIAL'] = np.where(ette_demo.CON_OTHER2.isnull or ette_demo.CON_OTHER2 == '(', ette_demo.CON_LAST2, ette_demo.CON_OTHER2)\n",
    "ette_demo['INITIAL_FINAL'] = np.where((ette_demo.CON_LAST2 == '\"') | (ette_demo.CON_LAST3 == '.'), ette_demo.CON_OTHER2, ette_demo.INITIAL)\n",
    "\n",
    "#ette_demo.INITIAL_FINAL.value_counts()\n",
    "#ette_demo.head()"
   ]
  },
  {
   "cell_type": "code",
   "execution_count": 6,
   "metadata": {},
   "outputs": [],
   "source": [
    "# remove excess columns\n",
    "ette_demo = ette_demo[['Name', 'Age', 'Occupation', 'Agreement_1', 'Hometown', 'ElimWeek', 'Season', 'CON_FIRST', 'INITIAL_FINAL']].copy()\n",
    "#ette_demo.head()\n",
    "\n",
    "# make data types on merge columns the same\n",
    "#print(elim_ette.dtypes)\n",
    "ette_demo.dtypes\n",
    "elim_ette['SEASON'] = elim_ette['SEASON'].astype(str).astype(int)"
   ]
  },
  {
   "cell_type": "code",
   "execution_count": 33,
   "metadata": {},
   "outputs": [],
   "source": [
    "# merge/match on first name, last initial season number\n",
    "all_data = elim_ette.merge(ette_demo, left_on = ['SEASON', 'CON_FIRST', 'CON_INIT'], right_on = ['Season', 'CON_FIRST', 'INITIAL_FINAL'])\n",
    "#all_data.head()"
   ]
  },
  {
   "cell_type": "code",
   "execution_count": 34,
   "metadata": {},
   "outputs": [],
   "source": [
    "# keep seasons with full contestant data\n",
    "# only keep seasons 4 5 6 8 9 10 11 12\n",
    "bachelorette = all_data[all_data.SEASON.isin([4, 5, 6, 8, 9, 10, 11, 12])].copy()"
   ]
  },
  {
   "cell_type": "markdown",
   "metadata": {},
   "source": [
    "## Add in Rose Variables"
   ]
  },
  {
   "cell_type": "code",
   "execution_count": 35,
   "metadata": {},
   "outputs": [],
   "source": [
    "#bachelorette['ROSE-1'] = np.where(bachelorette['ELIMINATION-1'] == 'R', 1, 0)\n",
    "bachelorette['ROSE-2'] = np.where(bachelorette['ELIMINATION-2'] == 'R', 1, 0)\n",
    "bachelorette['ROSE-3'] = np.where(bachelorette['ELIMINATION-3'] == 'R', 1, 0)\n",
    "bachelorette['ROSE-4'] = np.where(bachelorette['ELIMINATION-4'] == 'R', 1, 0)\n",
    "bachelorette['ROSE-5'] = np.where(bachelorette['ELIMINATION-5'] == 'R', 1, 0)\n",
    "bachelorette['ROSE-6'] = np.where(bachelorette['ELIMINATION-6'] == 'R', 1, 0)\n",
    "bachelorette['ROSE-7'] = np.where(bachelorette['ELIMINATION-7'] == 'R', 1, 0)\n",
    "#bachelorette['ROSE-8'] = np.where(bachelorette['ELIMINATION-8'] == 'R', 1, 0)\n",
    "#bachelorette['ROSE-9'] = np.where(bachelorette['ELIMINATION-9'] == 'R', 1, 0)\n",
    "#bachelorette['ROSE-10'] = np.where(bachelorette['ELIMINATION-10'] == 'R', 1, 0)"
   ]
  },
  {
   "cell_type": "code",
   "execution_count": 36,
   "metadata": {},
   "outputs": [],
   "source": [
    "bachelorette['FIR-1'] = np.where(bachelorette['ELIMINATION-1'] == 'R1', 1, 0)\n",
    "#bachelorette['FIR-2'] = np.where(bachelorette['ELIMINATION-2'] == 'R1', 1, 0)\n",
    "#bachelorette['FIR-3'] = np.where(bachelorette['ELIMINATION-3'] == 'R1', 1, 0)\n",
    "#bachelorette['FIR-4'] = np.where(bachelorette['ELIMINATION-4'] == 'R1', 1, 0)\n",
    "#bachelorette['FIR-5'] = np.where(bachelorette['ELIMINATION-5'] == 'R1', 1, 0)\n",
    "#bachelorette['FIR-6'] = np.where(bachelorette['ELIMINATION-6'] == 'R1', 1, 0)\n",
    "#bachelorette['FIR-7'] = np.where(bachelorette['ELIMINATION-7'] == 'R1', 1, 0)\n",
    "#bachelorette['FIR-8'] = np.where(bachelorette['ELIMINATION-8'] == 'R1', 1, 0)\n",
    "#bachelorette['FIR-9'] = np.where(bachelorette['ELIMINATION-9'] == 'R1', 1, 0)\n",
    "#bachelorette['FIR-10'] = np.where(bachelorette['ELIMINATION-10'] == 'R1', 1, 0)"
   ]
  },
  {
   "cell_type": "markdown",
   "metadata": {},
   "source": [
    "## Add in WINNER column"
   ]
  },
  {
   "cell_type": "code",
   "execution_count": 37,
   "metadata": {},
   "outputs": [],
   "source": [
    "roses = bachelorette[['SHOW', 'SEASON', 'CONTESTANT', 'ELIMINATION-1', 'ELIMINATION-2',\n",
    "       'ELIMINATION-3', 'ELIMINATION-4', 'ELIMINATION-5', 'ELIMINATION-6',\n",
    "       'ELIMINATION-7', 'ELIMINATION-8', 'ELIMINATION-9', 'ELIMINATION-10']].copy()\n",
    "roses = pd.melt(roses, id_vars=['SHOW', 'SEASON', 'CONTESTANT'])\n",
    "roses.head()\n",
    "winners = roses[roses.value == 'W'].CONTESTANT.tolist()"
   ]
  },
  {
   "cell_type": "code",
   "execution_count": 38,
   "metadata": {},
   "outputs": [],
   "source": [
    "bachelorette['WINNER'] = np.where(bachelorette.CONTESTANT.isin(winners), 1, 0)"
   ]
  },
  {
   "cell_type": "code",
   "execution_count": 55,
   "metadata": {},
   "outputs": [
    {
     "data": {
      "text/plain": [
       "Index(['SHOW', 'SEASON', 'CONTESTANT', 'ELIMINATION-1', 'ELIMINATION-2',\n",
       "       'ELIMINATION-3', 'ELIMINATION-4', 'ELIMINATION-5', 'ELIMINATION-6',\n",
       "       'ELIMINATION-7', 'ELIMINATION-8', 'ELIMINATION-9', 'ELIMINATION-10',\n",
       "       'DATES-1', 'DATES-2', 'DATES-3', 'DATES-4', 'DATES-5', 'DATES-6',\n",
       "       'DATES-7', 'DATES-8', 'DATES-9', 'DATES-10', 'CON_SEASON', 'CON_FIRST',\n",
       "       'CON_INIT', 'Name', 'Age', 'Occupation', 'Agreement_1', 'Hometown',\n",
       "       'ElimWeek', 'Season', 'INITIAL_FINAL', 'ROSE-2', 'ROSE-3', 'ROSE-4',\n",
       "       'ROSE-5', 'ROSE-6', 'ROSE-7', 'FIR-1', 'WINNER'],\n",
       "      dtype='object')"
      ]
     },
     "execution_count": 55,
     "metadata": {},
     "output_type": "execute_result"
    }
   ],
   "source": [
    "bachelorette['WINNER'].value_counts()\n",
    "bachelorette.columns"
   ]
  },
  {
   "cell_type": "markdown",
   "metadata": {},
   "source": [
    "## Age Related Variables"
   ]
  },
  {
   "cell_type": "code",
   "execution_count": null,
   "metadata": {},
   "outputs": [],
   "source": [
    "# Age Difference between Contestant and Bachelorette\n",
    "bachelorette['AGE_DIFF'] = bachelorette['Age'] - bach['CONTESTANT_AGE']\n",
    "\n",
    "# Age Difference between Contestant and Mean of Contestant Pool for the Season\n",
    "bach = bach.merge(bach[['SEASON', 'CONTESTANT_AGE']].groupby(['SEASON'], as_index=False).mean(), on='SEASON', suffixes=['', '_MEAN'])\n",
    "bach.head()\n",
    "\n",
    "bach['AGE_DIFF_MEAN_POOL'] = bach['CONTESTANT_AGE'] - bach['CONTESTANT_AGE_MEAN']\n",
    "bach.head()\n",
    "\n",
    "# Age Difference between the Bachelor and the Contestant Pool\n",
    "bach['AGE_DIFF_BACH_POOL'] = bach['BACHELOR_AGE'] - bach['CONTESTANT_AGE_MEAN']\n",
    "\n",
    "# Create a categorical 'younger', 'same', 'older' variable for bachelor age vs. contestant age\n",
    "bach['AGE_DIFF_CAT'] = np.where(bach['AGE_DIFF'].isnull(), 4, np.where(bach['AGE_DIFF'] > 0, 2, np.where(bach['AGE_DIFF'] == 0, 1, 0)))\n",
    "bach['AGE_DIFF_CAT'].value_counts()"
   ]
  },
  {
   "cell_type": "markdown",
   "metadata": {},
   "source": [
    "## Geography"
   ]
  },
  {
   "cell_type": "code",
   "execution_count": null,
   "metadata": {},
   "outputs": [],
   "source": [
    "states = {\n",
    "        'AK': 'O',\n",
    "        'AL': 'S',\n",
    "        'AR': 'S',\n",
    "        'AS': 'O',\n",
    "        'AZ': 'W',\n",
    "        'CA': 'W',\n",
    "        'CO': 'W',\n",
    "        'CT': 'N',\n",
    "        'DC': 'N',\n",
    "        'DE': 'N',\n",
    "        'FL': 'S',\n",
    "        'GA': 'S',\n",
    "        'GU': 'O',\n",
    "        'HI': 'O',\n",
    "        'IA': 'M',\n",
    "        'ID': 'W',\n",
    "        'IL': 'M',\n",
    "        'IN': 'M',\n",
    "        'KS': 'M',\n",
    "        'KY': 'S',\n",
    "        'LA': 'S',\n",
    "        'MA': 'N',\n",
    "        'MD': 'N',\n",
    "        'ME': 'N',\n",
    "        'MI': 'W',\n",
    "        'MN': 'M',\n",
    "        'MO': 'M',\n",
    "        'MP': 'O',\n",
    "        'MS': 'S',\n",
    "        'MT': 'W',\n",
    "        'NA': 'O',\n",
    "        'NC': 'S',\n",
    "        'ND': 'M',\n",
    "        'NE': 'W',\n",
    "        'NH': 'N',\n",
    "        'NJ': 'N',\n",
    "        'NM': 'W',\n",
    "        'NV': 'W',\n",
    "        'NY': 'N',\n",
    "        'OH': 'M',\n",
    "        'OK': 'S',\n",
    "        'OR': 'W',\n",
    "        'PA': 'N',\n",
    "        'PR': 'O',\n",
    "        'RI': 'N',\n",
    "        'SC': 'S',\n",
    "        'SD': 'M',\n",
    "        'TN': 'S',\n",
    "        'TX': 'S',\n",
    "        'UT': 'W',\n",
    "        'VA': 'S',\n",
    "        'VI': 'O',\n",
    "        'VT': 'N',\n",
    "        'WA': 'W',\n",
    "        'WI': 'M',\n",
    "        'WV': 'S',\n",
    "        'WY': 'W'\n",
    "}"
   ]
  },
  {
   "cell_type": "code",
   "execution_count": null,
   "metadata": {},
   "outputs": [],
   "source": [
    "# Binary for same city or state\n",
    "bach['SAME_CITY'] = np.where(bach['BACHELOR_HOMETOWN_CITY'] == bach['CONTESTANT_HOMETOWN_CITY'], 1, 0)\n",
    "bach['SAME_STATE'] = np.where(bach['BACHELOR_HOMETOWN_STATE'] == bach['BACHELOR_HOMETOWN_STATE'], 1, 0)"
   ]
  },
  {
   "cell_type": "code",
   "execution_count": null,
   "metadata": {},
   "outputs": [],
   "source": [
    "# Convert Bachelor state to region\n",
    "StateRegion = []\n",
    "for index, row in bach.iterrows():\n",
    "    #print(row['c1'], row['c2'])\n",
    "    if row['BACHELOR_HOMETOWN_STATE'] in states: \n",
    "        StateRegion.append(states[row['BACHELOR_HOMETOWN_STATE']])\n",
    "    else: \n",
    "        StateRegion.append(row['BACHELOR_HOMETOWN_STATE'])\n",
    "        \n",
    "bach['BACHELOR_REGION'] = StateRegion"
   ]
  },
  {
   "cell_type": "code",
   "execution_count": null,
   "metadata": {},
   "outputs": [],
   "source": [
    "# Convert Contestant state to region\n",
    "StateRegion = []\n",
    "for index, row in bach.iterrows():\n",
    "    #print(row['c1'], row['c2'])\n",
    "    if row['CONTESTANT_HOMETOWN_STATE'] in states: \n",
    "        StateRegion.append(states[row['CONTESTANT_HOMETOWN_STATE']])\n",
    "    else: \n",
    "        StateRegion.append(row['CONTESTANT_HOMETOWN_STATE'])\n",
    "        \n",
    "bach['CONTESTANT_REGION'] = StateRegion"
   ]
  },
  {
   "cell_type": "code",
   "execution_count": null,
   "metadata": {},
   "outputs": [],
   "source": [
    "# binary if bachelor region and contestant region are the same\n",
    "bach['SAME_REGION'] = np.where(bach['BACHELOR_REGION'] == bach['CONTESTANT_REGION'], 1, 0)"
   ]
  }
 ],
 "metadata": {
  "kernelspec": {
   "display_name": "Python 3",
   "language": "python",
   "name": "python3"
  },
  "language_info": {
   "codemirror_mode": {
    "name": "ipython",
    "version": 3
   },
   "file_extension": ".py",
   "mimetype": "text/x-python",
   "name": "python",
   "nbconvert_exporter": "python",
   "pygments_lexer": "ipython3",
   "version": "3.6.5"
  }
 },
 "nbformat": 4,
 "nbformat_minor": 2
}
