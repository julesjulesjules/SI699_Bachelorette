{
 "cells": [
  {
   "cell_type": "markdown",
   "metadata": {},
   "source": [
    "# Making Bachelorette Dataset\n",
    "### Combining Demographics and Elimination Data\n",
    "### Adding Additional Created Variables\n",
    "### Adding Twitter data"
   ]
  },
  {
   "cell_type": "code",
   "execution_count": 1,
   "metadata": {},
   "outputs": [],
   "source": [
    "# load up libraries\n",
    "import pandas as pd\n",
    "import numpy as np\n",
    "%matplotlib inline"
   ]
  },
  {
   "cell_type": "code",
   "execution_count": 2,
   "metadata": {},
   "outputs": [],
   "source": [
    "# bring in data\n",
    "# read in bachelorette contestant demographic data\n",
    "ette_demo = pd.read_csv(\"ette_cont_occ_group.csv\", encoding='latin-1')\n",
    "\n",
    "# read in elimination data\n",
    "elim = pd.read_csv(\"bachelorette_538.csv\")\n",
    "elim = elim.drop([0])\n",
    "\n",
    "# read in bachelorette data\n",
    "ettes = pd.read_csv(\"bachelorettes.csv\")"
   ]
  },
  {
   "cell_type": "code",
   "execution_count": 3,
   "metadata": {},
   "outputs": [],
   "source": [
    "# only select bachelorette elimination data\n",
    "elim_ette = elim[elim.SHOW == 'Bachelorette'].copy()\n",
    "# keep only numbered seasons\n",
    "elim_ette = elim_ette[elim_ette.SEASON != 'SEASON'].copy()\n",
    "\n",
    "elim_ette['SEASON'] = elim_ette['SEASON'].astype(str).astype(int)\n",
    "elim_ette = elim_ette.merge(ettes, left_on=['SEASON'], right_on=['Season'])"
   ]
  },
  {
   "cell_type": "code",
   "execution_count": 4,
   "metadata": {},
   "outputs": [
    {
     "data": {
      "text/plain": [
       "Index(['SHOW', 'SEASON', 'CONTESTANT', 'ELIMINATION-1', 'ELIMINATION-2',\n",
       "       'ELIMINATION-3', 'ELIMINATION-4', 'ELIMINATION-5', 'ELIMINATION-6',\n",
       "       'ELIMINATION-7', 'ELIMINATION-8', 'ELIMINATION-9', 'ELIMINATION-10',\n",
       "       'DATES-1', 'DATES-2', 'DATES-3', 'DATES-4', 'DATES-5', 'DATES-6',\n",
       "       'DATES-7', 'DATES-8', 'DATES-9', 'DATES-10', 'Name', 'Age',\n",
       "       'Occupation', 'OCC_AGREE', 'Hometown', 'Season'],\n",
       "      dtype='object')"
      ]
     },
     "execution_count": 4,
     "metadata": {},
     "output_type": "execute_result"
    }
   ],
   "source": [
    "elim_ette.columns"
   ]
  },
  {
   "cell_type": "code",
   "execution_count": 5,
   "metadata": {},
   "outputs": [],
   "source": [
    "# setting up data to combine the two sets\n",
    "\n",
    "# split elim CONTESTANT on \"_\"\n",
    "elim_ette[['CON_SEASON', 'CON_FIRST', 'CON_INIT']] = elim_ette['CONTESTANT'].str.split('_',expand=True)\n",
    "#elim_ette.head()\n",
    "\n",
    "# split bach CONTESTANT on \" \",\n",
    "ette_demo[['CON_FIRST', 'CON_LAST', 'CON_OTHER']] = ette_demo['Name'].str.split(' ', expand=True)\n",
    "#ette_demo.head()"
   ]
  },
  {
   "cell_type": "code",
   "execution_count": 6,
   "metadata": {},
   "outputs": [],
   "source": [
    "# make everything uppercase \n",
    "ette_demo.CON_FIRST = ette_demo.CON_FIRST.str.upper()\n",
    "ette_demo.CON_LAST = ette_demo.CON_LAST.str.upper()\n",
    "ette_demo.CON_OTHER = ette_demo.CON_OTHER.str.upper()\n",
    "\n",
    "# keep only first initial of last name\n",
    "ette_demo['CON_LAST2'] = ette_demo.CON_LAST.str[0]\n",
    "ette_demo['CON_LAST3'] = ette_demo.CON_LAST.str[1]\n",
    "ette_demo['CON_OTHER2'] = ette_demo.CON_OTHER.str[0]\n",
    "# iterate through rows in order to keep correct letter\n",
    "# logic will be: \n",
    "# if CON_LAST2 == '\"' or if CON_LAST3 == '.' then keep CON_OTHER2\n",
    "# if CON_OTHER2 == '(' or if CON_OTHER2.isnull then keep CON_LAST2, otherwise keep CON_OTHER2\n",
    "\n",
    "ette_demo['INITIAL'] = np.where(ette_demo.CON_OTHER2.isnull or ette_demo.CON_OTHER2 == '(', ette_demo.CON_LAST2, ette_demo.CON_OTHER2)\n",
    "ette_demo['INITIAL_FINAL'] = np.where((ette_demo.CON_LAST2 == '\"') | (ette_demo.CON_LAST3 == '.'), ette_demo.CON_OTHER2, ette_demo.INITIAL)\n",
    "\n",
    "#ette_demo.INITIAL_FINAL.value_counts()\n",
    "#ette_demo.head()"
   ]
  },
  {
   "cell_type": "code",
   "execution_count": 7,
   "metadata": {},
   "outputs": [],
   "source": [
    "# remove excess columns\n",
    "ette_demo = ette_demo[['Name', 'Age', 'Occupation', 'Agreement_1', 'Hometown', 'ElimWeek', 'Season', 'CON_FIRST', 'INITIAL_FINAL']].copy()\n",
    "#ette_demo.head()\n",
    "\n",
    "# make data types on merge columns the same\n",
    "#print(elim_ette.dtypes)\n",
    "ette_demo.dtypes\n",
    "elim_ette['SEASON'] = elim_ette['SEASON'].astype(str).astype(int)"
   ]
  },
  {
   "cell_type": "code",
   "execution_count": 8,
   "metadata": {},
   "outputs": [],
   "source": [
    "# merge/match on first name, last initial season number\n",
    "all_data = elim_ette.merge(ette_demo, left_on = ['SEASON', 'CON_FIRST', 'CON_INIT'], right_on = ['Season', 'CON_FIRST', 'INITIAL_FINAL'])\n",
    "#all_data.head()"
   ]
  },
  {
   "cell_type": "code",
   "execution_count": null,
   "metadata": {},
   "outputs": [],
   "source": []
  },
  {
   "cell_type": "code",
   "execution_count": null,
   "metadata": {},
   "outputs": [],
   "source": []
  },
  {
   "cell_type": "code",
   "execution_count": 9,
   "metadata": {},
   "outputs": [
    {
     "data": {
      "text/plain": [
       "13    31\n",
       "5     30\n",
       "14    28\n",
       "12    26\n",
       "11    26\n",
       "10    25\n",
       "9     25\n",
       "8     25\n",
       "7     25\n",
       "6     25\n",
       "4     25\n",
       "3     25\n",
       "2     25\n",
       "1     25\n",
       "Name: SEASON, dtype: int64"
      ]
     },
     "execution_count": 9,
     "metadata": {},
     "output_type": "execute_result"
    }
   ],
   "source": [
    "elim_ette.SEASON.value_counts()"
   ]
  },
  {
   "cell_type": "code",
   "execution_count": 10,
   "metadata": {},
   "outputs": [
    {
     "data": {
      "text/plain": [
       "13    31\n",
       "5     30\n",
       "14    28\n",
       "12    26\n",
       "11    26\n",
       "10    25\n",
       "9     25\n",
       "8     25\n",
       "7     25\n",
       "6     25\n",
       "4     25\n",
       "2     25\n",
       "1     25\n",
       "Name: Season, dtype: int64"
      ]
     },
     "execution_count": 10,
     "metadata": {},
     "output_type": "execute_result"
    }
   ],
   "source": [
    "ette_demo.Season.value_counts()"
   ]
  },
  {
   "cell_type": "code",
   "execution_count": 11,
   "metadata": {},
   "outputs": [
    {
     "data": {
      "text/plain": [
       "13    31\n",
       "5     30\n",
       "14    28\n",
       "7     27\n",
       "12    26\n",
       "11    26\n",
       "10    25\n",
       "9     25\n",
       "8     25\n",
       "6     25\n",
       "4     25\n",
       "2     25\n",
       "1     25\n",
       "Name: SEASON, dtype: int64"
      ]
     },
     "execution_count": 11,
     "metadata": {},
     "output_type": "execute_result"
    }
   ],
   "source": [
    "all_data.SEASON.value_counts()"
   ]
  },
  {
   "cell_type": "code",
   "execution_count": null,
   "metadata": {},
   "outputs": [],
   "source": []
  },
  {
   "cell_type": "code",
   "execution_count": null,
   "metadata": {},
   "outputs": [],
   "source": []
  },
  {
   "cell_type": "code",
   "execution_count": 12,
   "metadata": {},
   "outputs": [],
   "source": [
    "# keep seasons with full contestant data\n",
    "# only keep seasons 1 2 4 5 6 8 9 10 11 12 13 14\n",
    "bachelorette = all_data[(all_data.SEASON != 3) & (all_data.SEASON != 7)].copy()"
   ]
  },
  {
   "cell_type": "code",
   "execution_count": 13,
   "metadata": {},
   "outputs": [
    {
     "data": {
      "text/plain": [
       "13    31\n",
       "5     30\n",
       "14    28\n",
       "12    26\n",
       "11    26\n",
       "10    25\n",
       "9     25\n",
       "8     25\n",
       "6     25\n",
       "4     25\n",
       "2     25\n",
       "1     25\n",
       "Name: SEASON, dtype: int64"
      ]
     },
     "execution_count": 13,
     "metadata": {},
     "output_type": "execute_result"
    }
   ],
   "source": [
    "bachelorette.SEASON.value_counts()"
   ]
  },
  {
   "cell_type": "code",
   "execution_count": 14,
   "metadata": {},
   "outputs": [
    {
     "data": {
      "text/plain": [
       "Index(['SHOW', 'SEASON', 'CONTESTANT', 'ELIMINATION-1', 'ELIMINATION-2',\n",
       "       'ELIMINATION-3', 'ELIMINATION-4', 'ELIMINATION-5', 'ELIMINATION-6',\n",
       "       'ELIMINATION-7', 'ELIMINATION-8', 'ELIMINATION-9', 'ELIMINATION-10',\n",
       "       'DATES-1', 'DATES-2', 'DATES-3', 'DATES-4', 'DATES-5', 'DATES-6',\n",
       "       'DATES-7', 'DATES-8', 'DATES-9', 'DATES-10', 'Name_x', 'Age_x',\n",
       "       'Occupation_x', 'OCC_AGREE', 'Hometown_x', 'Season_x', 'CON_SEASON',\n",
       "       'CON_FIRST', 'CON_INIT', 'Name_y', 'Age_y', 'Occupation_y',\n",
       "       'Agreement_1', 'Hometown_y', 'ElimWeek', 'Season_y', 'INITIAL_FINAL'],\n",
       "      dtype='object')"
      ]
     },
     "execution_count": 14,
     "metadata": {},
     "output_type": "execute_result"
    }
   ],
   "source": [
    "bachelorette.columns\n",
    "#bachelorette.head()"
   ]
  },
  {
   "cell_type": "code",
   "execution_count": 15,
   "metadata": {},
   "outputs": [
    {
     "data": {
      "text/html": [
       "<div>\n",
       "<style scoped>\n",
       "    .dataframe tbody tr th:only-of-type {\n",
       "        vertical-align: middle;\n",
       "    }\n",
       "\n",
       "    .dataframe tbody tr th {\n",
       "        vertical-align: top;\n",
       "    }\n",
       "\n",
       "    .dataframe thead th {\n",
       "        text-align: right;\n",
       "    }\n",
       "</style>\n",
       "<table border=\"1\" class=\"dataframe\">\n",
       "  <thead>\n",
       "    <tr style=\"text-align: right;\">\n",
       "      <th></th>\n",
       "      <th>SHOW</th>\n",
       "      <th>SEASON</th>\n",
       "      <th>CONTESTANT</th>\n",
       "      <th>NAME</th>\n",
       "      <th>AGE</th>\n",
       "      <th>OCCUPATION</th>\n",
       "      <th>OCCUPATION_GROUP</th>\n",
       "      <th>HOMETOWN</th>\n",
       "      <th>ELIMINATION-1</th>\n",
       "      <th>ELIMINATION-2</th>\n",
       "      <th>...</th>\n",
       "      <th>DATES-6</th>\n",
       "      <th>DATES-7</th>\n",
       "      <th>DATES-8</th>\n",
       "      <th>DATES-9</th>\n",
       "      <th>DATES-10</th>\n",
       "      <th>ETTE_NAME</th>\n",
       "      <th>ETTE_AGE</th>\n",
       "      <th>ETTE_OCCUPATION</th>\n",
       "      <th>ETTE_OCCUPATION_GROUP</th>\n",
       "      <th>ETTE_HOMETOWN</th>\n",
       "    </tr>\n",
       "  </thead>\n",
       "  <tbody>\n",
       "    <tr>\n",
       "      <th>0</th>\n",
       "      <td>Bachelorette</td>\n",
       "      <td>14</td>\n",
       "      <td>14_GARRETT_Y</td>\n",
       "      <td>Garrett Yrigoyen</td>\n",
       "      <td>29</td>\n",
       "      <td>Medical Sales Representative</td>\n",
       "      <td>Sales</td>\n",
       "      <td>Manteca, California</td>\n",
       "      <td>R1</td>\n",
       "      <td>NaN</td>\n",
       "      <td>...</td>\n",
       "      <td>D7</td>\n",
       "      <td>D1</td>\n",
       "      <td>D1</td>\n",
       "      <td>D1</td>\n",
       "      <td>D1</td>\n",
       "      <td>Becca Kufrin</td>\n",
       "      <td>28.0</td>\n",
       "      <td>Publicist</td>\n",
       "      <td>Entertainment and Media</td>\n",
       "      <td>Prior Lake, Minnesota</td>\n",
       "    </tr>\n",
       "    <tr>\n",
       "      <th>1</th>\n",
       "      <td>Bachelorette</td>\n",
       "      <td>14</td>\n",
       "      <td>14_BLAKE_H</td>\n",
       "      <td>Blake Horstmann</td>\n",
       "      <td>28</td>\n",
       "      <td>Sales Rep</td>\n",
       "      <td>Sales</td>\n",
       "      <td>Bailey, Colorado</td>\n",
       "      <td>NaN</td>\n",
       "      <td>R</td>\n",
       "      <td>...</td>\n",
       "      <td>D7</td>\n",
       "      <td>D1</td>\n",
       "      <td>D1</td>\n",
       "      <td>D1</td>\n",
       "      <td>D1</td>\n",
       "      <td>Becca Kufrin</td>\n",
       "      <td>28.0</td>\n",
       "      <td>Publicist</td>\n",
       "      <td>Entertainment and Media</td>\n",
       "      <td>Prior Lake, Minnesota</td>\n",
       "    </tr>\n",
       "    <tr>\n",
       "      <th>2</th>\n",
       "      <td>Bachelorette</td>\n",
       "      <td>14</td>\n",
       "      <td>14_JASON_T</td>\n",
       "      <td>Jason Tartick</td>\n",
       "      <td>29</td>\n",
       "      <td>Senior Corporate Banker</td>\n",
       "      <td>FinanceInvestmentBanking</td>\n",
       "      <td>Buffalo, New York</td>\n",
       "      <td>NaN</td>\n",
       "      <td>NaN</td>\n",
       "      <td>...</td>\n",
       "      <td>D1</td>\n",
       "      <td>D3</td>\n",
       "      <td>D1</td>\n",
       "      <td>D1</td>\n",
       "      <td>NaN</td>\n",
       "      <td>Becca Kufrin</td>\n",
       "      <td>28.0</td>\n",
       "      <td>Publicist</td>\n",
       "      <td>Entertainment and Media</td>\n",
       "      <td>Prior Lake, Minnesota</td>\n",
       "    </tr>\n",
       "    <tr>\n",
       "      <th>3</th>\n",
       "      <td>Bachelorette</td>\n",
       "      <td>14</td>\n",
       "      <td>14_COLTON_U</td>\n",
       "      <td>Colton Underwood</td>\n",
       "      <td>26</td>\n",
       "      <td>Former Pro Football Player</td>\n",
       "      <td>Sports</td>\n",
       "      <td>Washington, Illinois</td>\n",
       "      <td>NaN</td>\n",
       "      <td>NaN</td>\n",
       "      <td>...</td>\n",
       "      <td>D7</td>\n",
       "      <td>D1</td>\n",
       "      <td>D1</td>\n",
       "      <td>NaN</td>\n",
       "      <td>NaN</td>\n",
       "      <td>Becca Kufrin</td>\n",
       "      <td>28.0</td>\n",
       "      <td>Publicist</td>\n",
       "      <td>Entertainment and Media</td>\n",
       "      <td>Prior Lake, Minnesota</td>\n",
       "    </tr>\n",
       "    <tr>\n",
       "      <th>4</th>\n",
       "      <td>Bachelorette</td>\n",
       "      <td>14</td>\n",
       "      <td>14_WILLS_R</td>\n",
       "      <td>Wills Reid</td>\n",
       "      <td>29</td>\n",
       "      <td>Graphic Designer</td>\n",
       "      <td>Art and Design</td>\n",
       "      <td>Los Angeles, California</td>\n",
       "      <td>NaN</td>\n",
       "      <td>R</td>\n",
       "      <td>...</td>\n",
       "      <td>D7</td>\n",
       "      <td>D3</td>\n",
       "      <td>NaN</td>\n",
       "      <td>NaN</td>\n",
       "      <td>NaN</td>\n",
       "      <td>Becca Kufrin</td>\n",
       "      <td>28.0</td>\n",
       "      <td>Publicist</td>\n",
       "      <td>Entertainment and Media</td>\n",
       "      <td>Prior Lake, Minnesota</td>\n",
       "    </tr>\n",
       "  </tbody>\n",
       "</table>\n",
       "<p>5 rows × 33 columns</p>\n",
       "</div>"
      ],
      "text/plain": [
       "           SHOW  SEASON    CONTESTANT              NAME  AGE  \\\n",
       "0  Bachelorette      14  14_GARRETT_Y  Garrett Yrigoyen   29   \n",
       "1  Bachelorette      14    14_BLAKE_H   Blake Horstmann   28   \n",
       "2  Bachelorette      14    14_JASON_T     Jason Tartick   29   \n",
       "3  Bachelorette      14   14_COLTON_U  Colton Underwood   26   \n",
       "4  Bachelorette      14    14_WILLS_R        Wills Reid   29   \n",
       "\n",
       "                     OCCUPATION          OCCUPATION_GROUP  \\\n",
       "0  Medical Sales Representative                     Sales   \n",
       "1                     Sales Rep                     Sales   \n",
       "2       Senior Corporate Banker  FinanceInvestmentBanking   \n",
       "3    Former Pro Football Player                    Sports   \n",
       "4              Graphic Designer            Art and Design   \n",
       "\n",
       "                  HOMETOWN ELIMINATION-1 ELIMINATION-2          ...            \\\n",
       "0      Manteca, California            R1           NaN          ...             \n",
       "1         Bailey, Colorado           NaN             R          ...             \n",
       "2        Buffalo, New York           NaN           NaN          ...             \n",
       "3     Washington, Illinois           NaN           NaN          ...             \n",
       "4  Los Angeles, California           NaN             R          ...             \n",
       "\n",
       "  DATES-6 DATES-7 DATES-8 DATES-9 DATES-10     ETTE_NAME ETTE_AGE  \\\n",
       "0      D7      D1      D1      D1       D1  Becca Kufrin     28.0   \n",
       "1      D7      D1      D1      D1       D1  Becca Kufrin     28.0   \n",
       "2      D1      D3      D1      D1      NaN  Becca Kufrin     28.0   \n",
       "3      D7      D1      D1     NaN      NaN  Becca Kufrin     28.0   \n",
       "4      D7      D3     NaN     NaN      NaN  Becca Kufrin     28.0   \n",
       "\n",
       "  ETTE_OCCUPATION    ETTE_OCCUPATION_GROUP          ETTE_HOMETOWN  \n",
       "0       Publicist  Entertainment and Media  Prior Lake, Minnesota  \n",
       "1       Publicist  Entertainment and Media  Prior Lake, Minnesota  \n",
       "2       Publicist  Entertainment and Media  Prior Lake, Minnesota  \n",
       "3       Publicist  Entertainment and Media  Prior Lake, Minnesota  \n",
       "4       Publicist  Entertainment and Media  Prior Lake, Minnesota  \n",
       "\n",
       "[5 rows x 33 columns]"
      ]
     },
     "execution_count": 15,
     "metadata": {},
     "output_type": "execute_result"
    }
   ],
   "source": [
    "bachelorette = bachelorette[['SHOW', 'SEASON', 'CONTESTANT', 'Name_y', 'Age_y', 'Occupation_y', 'Agreement_1',\n",
    "       'Hometown_y', 'ELIMINATION-1', 'ELIMINATION-2',\n",
    "       'ELIMINATION-3', 'ELIMINATION-4', 'ELIMINATION-5', 'ELIMINATION-6',\n",
    "       'ELIMINATION-7', 'ELIMINATION-8', 'ELIMINATION-9', 'ELIMINATION-10',\n",
    "       'DATES-1', 'DATES-2', 'DATES-3', 'DATES-4', 'DATES-5', 'DATES-6',\n",
    "       'DATES-7', 'DATES-8', 'DATES-9', 'DATES-10', 'Name_x', 'Age_x',\n",
    "       'Occupation_x', 'OCC_AGREE', 'Hometown_x']].copy()\n",
    "bachelorette.columns = ['SHOW', 'SEASON', 'CONTESTANT', 'NAME', 'AGE', 'OCCUPATION', 'OCCUPATION_GROUP',\n",
    "       'HOMETOWN', 'ELIMINATION-1', 'ELIMINATION-2',\n",
    "       'ELIMINATION-3', 'ELIMINATION-4', 'ELIMINATION-5', 'ELIMINATION-6',\n",
    "       'ELIMINATION-7', 'ELIMINATION-8', 'ELIMINATION-9', 'ELIMINATION-10',\n",
    "       'DATES-1', 'DATES-2', 'DATES-3', 'DATES-4', 'DATES-5', 'DATES-6',\n",
    "       'DATES-7', 'DATES-8', 'DATES-9', 'DATES-10', 'ETTE_NAME', 'ETTE_AGE',\n",
    "       'ETTE_OCCUPATION', 'ETTE_OCCUPATION_GROUP', 'ETTE_HOMETOWN']\n",
    "bachelorette.head()"
   ]
  },
  {
   "cell_type": "code",
   "execution_count": 16,
   "metadata": {},
   "outputs": [
    {
     "data": {
      "text/plain": [
       "array(['Publicist', 'Attorney', 'Real Estate Developer',\n",
       "       'Dance Instructor', 'Assistant District Attorney',\n",
       "       'Bridal stylist', \"Children's hospital event planner\",\n",
       "       'Advertising account manager', 'Interior designer',\n",
       "       'Real estate agent', 'Makeup artist', 'Physical therapist'],\n",
       "      dtype=object)"
      ]
     },
     "execution_count": 16,
     "metadata": {},
     "output_type": "execute_result"
    }
   ],
   "source": [
    "bachelorette.ETTE_OCCUPATION.unique()"
   ]
  },
  {
   "cell_type": "code",
   "execution_count": 17,
   "metadata": {},
   "outputs": [
    {
     "data": {
      "text/plain": [
       "13    31\n",
       "5     30\n",
       "14    28\n",
       "12    26\n",
       "11    26\n",
       "10    25\n",
       "9     25\n",
       "8     25\n",
       "6     25\n",
       "4     25\n",
       "2     25\n",
       "1     25\n",
       "Name: SEASON, dtype: int64"
      ]
     },
     "execution_count": 17,
     "metadata": {},
     "output_type": "execute_result"
    }
   ],
   "source": [
    "bachelorette.SEASON.value_counts()"
   ]
  },
  {
   "cell_type": "markdown",
   "metadata": {},
   "source": [
    "## Add in Rose Variables"
   ]
  },
  {
   "cell_type": "code",
   "execution_count": 18,
   "metadata": {},
   "outputs": [],
   "source": [
    "bachelorette['ROSE-1'] = np.where(bachelorette['ELIMINATION-1'] == 'R', 1, 0)\n",
    "bachelorette['ROSE-2'] = np.where(bachelorette['ELIMINATION-2'] == 'R', 1, 0)\n",
    "bachelorette['ROSE-3'] = np.where(bachelorette['ELIMINATION-3'] == 'R', 1, 0)\n",
    "bachelorette['ROSE-4'] = np.where(bachelorette['ELIMINATION-4'] == 'R', 1, 0)\n",
    "bachelorette['ROSE-5'] = np.where(bachelorette['ELIMINATION-5'] == 'R', 1, 0)\n",
    "bachelorette['ROSE-6'] = np.where(bachelorette['ELIMINATION-6'] == 'R', 1, 0)\n",
    "bachelorette['ROSE-7'] = np.where(bachelorette['ELIMINATION-7'] == 'R', 1, 0)\n",
    "bachelorette['ROSE-8'] = np.where(bachelorette['ELIMINATION-8'] == 'R', 1, 0)\n",
    "bachelorette['ROSE-9'] = np.where(bachelorette['ELIMINATION-9'] == 'R', 1, 0)\n",
    "bachelorette['ROSE-10'] = np.where(bachelorette['ELIMINATION-10'] == 'R', 1, 0)"
   ]
  },
  {
   "cell_type": "code",
   "execution_count": 19,
   "metadata": {},
   "outputs": [],
   "source": [
    "bachelorette['FIR-1'] = np.where(bachelorette['ELIMINATION-1'] == 'R1', 1, 0)\n",
    "bachelorette['FIR-2'] = np.where(bachelorette['ELIMINATION-2'] == 'R1', 1, 0)\n",
    "bachelorette['FIR-3'] = np.where(bachelorette['ELIMINATION-3'] == 'R1', 1, 0)\n",
    "bachelorette['FIR-4'] = np.where(bachelorette['ELIMINATION-4'] == 'R1', 1, 0)\n",
    "bachelorette['FIR-5'] = np.where(bachelorette['ELIMINATION-5'] == 'R1', 1, 0)\n",
    "bachelorette['FIR-6'] = np.where(bachelorette['ELIMINATION-6'] == 'R1', 1, 0)\n",
    "bachelorette['FIR-7'] = np.where(bachelorette['ELIMINATION-7'] == 'R1', 1, 0)\n",
    "bachelorette['FIR-8'] = np.where(bachelorette['ELIMINATION-8'] == 'R1', 1, 0)\n",
    "bachelorette['FIR-9'] = np.where(bachelorette['ELIMINATION-9'] == 'R1', 1, 0)\n",
    "bachelorette['FIR-10'] = np.where(bachelorette['ELIMINATION-10'] == 'R1', 1, 0)"
   ]
  },
  {
   "cell_type": "markdown",
   "metadata": {},
   "source": [
    "## Add in WINNER column"
   ]
  },
  {
   "cell_type": "code",
   "execution_count": 20,
   "metadata": {},
   "outputs": [],
   "source": [
    "roses = bachelorette[['SHOW', 'SEASON', 'CONTESTANT', 'ELIMINATION-1', 'ELIMINATION-2',\n",
    "       'ELIMINATION-3', 'ELIMINATION-4', 'ELIMINATION-5', 'ELIMINATION-6',\n",
    "       'ELIMINATION-7', 'ELIMINATION-8', 'ELIMINATION-9', 'ELIMINATION-10']].copy()\n",
    "roses = pd.melt(roses, id_vars=['SHOW', 'SEASON', 'CONTESTANT'])\n",
    "roses.head()\n",
    "winners = roses[roses.value == 'W'].CONTESTANT.tolist()"
   ]
  },
  {
   "cell_type": "code",
   "execution_count": 21,
   "metadata": {},
   "outputs": [],
   "source": [
    "bachelorette['WINNER'] = np.where(bachelorette.CONTESTANT.isin(winners), 1, 0)"
   ]
  },
  {
   "cell_type": "code",
   "execution_count": 22,
   "metadata": {},
   "outputs": [
    {
     "data": {
      "text/plain": [
       "Index(['SHOW', 'SEASON', 'CONTESTANT', 'NAME', 'AGE', 'OCCUPATION',\n",
       "       'OCCUPATION_GROUP', 'HOMETOWN', 'ELIMINATION-1', 'ELIMINATION-2',\n",
       "       'ELIMINATION-3', 'ELIMINATION-4', 'ELIMINATION-5', 'ELIMINATION-6',\n",
       "       'ELIMINATION-7', 'ELIMINATION-8', 'ELIMINATION-9', 'ELIMINATION-10',\n",
       "       'DATES-1', 'DATES-2', 'DATES-3', 'DATES-4', 'DATES-5', 'DATES-6',\n",
       "       'DATES-7', 'DATES-8', 'DATES-9', 'DATES-10', 'ETTE_NAME', 'ETTE_AGE',\n",
       "       'ETTE_OCCUPATION', 'ETTE_OCCUPATION_GROUP', 'ETTE_HOMETOWN', 'ROSE-1',\n",
       "       'ROSE-2', 'ROSE-3', 'ROSE-4', 'ROSE-5', 'ROSE-6', 'ROSE-7', 'ROSE-8',\n",
       "       'ROSE-9', 'ROSE-10', 'FIR-1', 'FIR-2', 'FIR-3', 'FIR-4', 'FIR-5',\n",
       "       'FIR-6', 'FIR-7', 'FIR-8', 'FIR-9', 'FIR-10', 'WINNER'],\n",
       "      dtype='object')"
      ]
     },
     "execution_count": 22,
     "metadata": {},
     "output_type": "execute_result"
    }
   ],
   "source": [
    "bachelorette['WINNER'].value_counts()\n",
    "bachelorette.columns"
   ]
  },
  {
   "cell_type": "markdown",
   "metadata": {},
   "source": [
    "## Add in Top 5 column"
   ]
  },
  {
   "cell_type": "code",
   "execution_count": 48,
   "metadata": {},
   "outputs": [
    {
     "name": "stdout",
     "output_type": "stream",
     "text": [
      "1\n",
      "2\n",
      "4\n",
      "5\n",
      "6\n",
      "8\n",
      "9\n",
      "10\n",
      "11\n",
      "12\n",
      "13\n",
      "14\n"
     ]
    },
    {
     "data": {
      "text/plain": [
       "['01_RYAN_S',\n",
       " '01_CHARLIE_M',\n",
       " '01_RUSS_X',\n",
       " '02_IAN_M',\n",
       " '02_MATTHEW_H',\n",
       " '02_CHAD_X',\n",
       " '04_JESSE_C',\n",
       " '04_JASON_M',\n",
       " '04_JEREMY_A',\n",
       " '05_ED_S',\n",
       " '05_KIPTYN_L',\n",
       " '05_REID_R',\n",
       " '06_ROBERT_M',\n",
       " '06_CHRIS_L',\n",
       " '06_FRANK_N',\n",
       " '08_JEF_H',\n",
       " '08_ARIE_L',\n",
       " '08_SEAN_L',\n",
       " '09_CHRIS_S',\n",
       " '09_DREW_K',\n",
       " '09_BROOKS_F',\n",
       " '10_JOSH_M',\n",
       " '10_NICK_V',\n",
       " '10_CHRIS_S',\n",
       " '11_SHAWN_B',\n",
       " '11_NICK_V',\n",
       " '11_BEN_H',\n",
       " '12_JORDAN_R',\n",
       " '12_ROBBY_H',\n",
       " '12_CHASE_M',\n",
       " '13_BRYAN_A',\n",
       " '13_PETER_K',\n",
       " '13_ERIC_B',\n",
       " '14_GARRETT_Y',\n",
       " '14_BLAKE_H',\n",
       " '14_JASON_T']"
      ]
     },
     "execution_count": 48,
     "metadata": {},
     "output_type": "execute_result"
    }
   ],
   "source": [
    "week = 1\n",
    "b = bachelorette.copy()\n",
    "top3s = []\n",
    "\n",
    "seasons = [1, 2, 4, 5, 6, 8, 9, 10, 11, 12, 13, 14]\n",
    "for each_season in seasons:\n",
    "    bs = b[b.SEASON == each_season].copy()\n",
    "    week = 1\n",
    "    while week <= 10:\n",
    "        #print(len(bs))\n",
    "        e_week_name = 'ELIMINATION-' + str(week)\n",
    "        bs = bs[(bs[e_week_name].isnull()) | (bs[e_week_name] == 'R') | (bs[e_week_name] == 'R1')]\n",
    "        if len(bs) == 3:\n",
    "            print(each_season)\n",
    "            for each in bs.CONTESTANT.unique(): \n",
    "                top3s.append(each)\n",
    "        week = week + 1\n",
    "        \n",
    "top3s"
   ]
  },
  {
   "cell_type": "code",
   "execution_count": 49,
   "metadata": {},
   "outputs": [],
   "source": [
    "bachelorette['TOP_THREE'] = np.where(bachelorette.CONTESTANT.isin(top3s), 1, 0)"
   ]
  },
  {
   "cell_type": "markdown",
   "metadata": {},
   "source": [
    "## Age Related Variables"
   ]
  },
  {
   "cell_type": "code",
   "execution_count": 50,
   "metadata": {},
   "outputs": [
    {
     "data": {
      "text/plain": [
       "0    133\n",
       "2     85\n",
       "4     75\n",
       "1     23\n",
       "Name: AGE_DIFF_CAT, dtype: int64"
      ]
     },
     "execution_count": 50,
     "metadata": {},
     "output_type": "execute_result"
    }
   ],
   "source": [
    "# Age Difference between Contestant and Bachelorette\n",
    "bachelorette['AGE_DIFF'] = bachelorette['ETTE_AGE'] - bachelorette['AGE']\n",
    "# is positive if the bachelorette is older than the contestant\n",
    "# is negative if the bachelorette is younger than the contestant\n",
    "\n",
    "# Age Difference between Contestant and Mean of Contestant Pool for the Season\n",
    "bachelorette = bachelorette.merge(bachelorette[['SEASON', 'AGE']].groupby(['SEASON'], as_index=False).mean(), on='SEASON', suffixes=['', '_MEAN'])\n",
    "#bach.head()\n",
    "\n",
    "# Age Difference between Contestant and the mean age of contestants in their season\n",
    "bachelorette['AGE_DIFF_MEAN_POOL'] = bachelorette['AGE'] - bachelorette['AGE_MEAN']\n",
    "# is positive if the contestant is older than the mean \n",
    "# is negative if the contestant is younger than the mean\n",
    "\n",
    "# Age Difference between the Bachelorette and the Contestant Pool\n",
    "bachelorette['AGE_DIFF_BACH_POOL'] = bachelorette['ETTE_AGE'] - bachelorette['AGE_MEAN']\n",
    "\n",
    "# Create a categorical 'younger', 'same', 'older' variable for bachelor age vs. contestant age\n",
    "bachelorette['AGE_DIFF_CAT'] = np.where(bachelorette['AGE_DIFF'].isnull(), 4, np.where(bachelorette['AGE_DIFF'] > 0, 2, np.where(bachelorette['AGE_DIFF'] == 0, 1, 0)))\n",
    "bachelorette['AGE_DIFF_CAT'].value_counts()\n",
    "# if the age difference is missing, assign value 4, otherwise [missing]\n",
    "# if the age difference is greater than 0, assign value 2, otherwise [older]\n",
    "# if the age difference is equal to 0, assign value 1, otherwise [same]\n",
    "# assign value 0 [younger]\n"
   ]
  },
  {
   "cell_type": "code",
   "execution_count": 51,
   "metadata": {},
   "outputs": [
    {
     "data": {
      "text/plain": [
       "Index(['SHOW', 'SEASON', 'CONTESTANT', 'NAME', 'AGE', 'OCCUPATION',\n",
       "       'OCCUPATION_GROUP', 'HOMETOWN', 'ELIMINATION-1', 'ELIMINATION-2',\n",
       "       'ELIMINATION-3', 'ELIMINATION-4', 'ELIMINATION-5', 'ELIMINATION-6',\n",
       "       'ELIMINATION-7', 'ELIMINATION-8', 'ELIMINATION-9', 'ELIMINATION-10',\n",
       "       'DATES-1', 'DATES-2', 'DATES-3', 'DATES-4', 'DATES-5', 'DATES-6',\n",
       "       'DATES-7', 'DATES-8', 'DATES-9', 'DATES-10', 'ETTE_NAME', 'ETTE_AGE',\n",
       "       'ETTE_OCCUPATION', 'ETTE_OCCUPATION_GROUP', 'ETTE_HOMETOWN', 'ROSE-1',\n",
       "       'ROSE-2', 'ROSE-3', 'ROSE-4', 'ROSE-5', 'ROSE-6', 'ROSE-7', 'ROSE-8',\n",
       "       'ROSE-9', 'ROSE-10', 'FIR-1', 'FIR-2', 'FIR-3', 'FIR-4', 'FIR-5',\n",
       "       'FIR-6', 'FIR-7', 'FIR-8', 'FIR-9', 'FIR-10', 'WINNER', 'TOP_THREE',\n",
       "       'AGE_DIFF', 'AGE_MEAN', 'AGE_DIFF_MEAN_POOL', 'AGE_DIFF_BACH_POOL',\n",
       "       'AGE_DIFF_CAT'],\n",
       "      dtype='object')"
      ]
     },
     "execution_count": 51,
     "metadata": {},
     "output_type": "execute_result"
    }
   ],
   "source": [
    "bachelorette.columns"
   ]
  },
  {
   "cell_type": "markdown",
   "metadata": {},
   "source": [
    "## Geography"
   ]
  },
  {
   "cell_type": "code",
   "execution_count": 52,
   "metadata": {},
   "outputs": [],
   "source": [
    "us_state_abbrev = {\n",
    "    'Alabama': 'AL',\n",
    "    'Alaska': 'AK',\n",
    "    'Arizona': 'AZ',\n",
    "    'Arkansas': 'AR',\n",
    "    'California': 'CA',\n",
    "    'Colorado': 'CO',\n",
    "    'Connecticut': 'CT',\n",
    "    'Delaware': 'DE',\n",
    "    'Florida': 'FL',\n",
    "    'Georgia': 'GA',\n",
    "    'Hawaii': 'HI',\n",
    "    'Idaho': 'ID',\n",
    "    'Illinois': 'IL',\n",
    "    'Indiana': 'IN',\n",
    "    'Iowa': 'IA',\n",
    "    'Kansas': 'KS',\n",
    "    'Kentucky': 'KY',\n",
    "    'Louisiana': 'LA',\n",
    "    'Maine': 'ME',\n",
    "    'Maryland': 'MD',\n",
    "    'Massachusetts': 'MA',\n",
    "    'Michigan': 'MI',\n",
    "    'Minnesota': 'MN',\n",
    "    'Mississippi': 'MS',\n",
    "    'Missouri': 'MO',\n",
    "    'Montana': 'MT',\n",
    "    'Nebraska': 'NE',\n",
    "    'Nevada': 'NV',\n",
    "    'New Hampshire': 'NH',\n",
    "    'New Jersey': 'NJ',\n",
    "    'New Mexico': 'NM',\n",
    "    'New York': 'NY',\n",
    "    'North Carolina': 'NC',\n",
    "    'North Dakota': 'ND',\n",
    "    'Ohio': 'OH',\n",
    "    'Oklahoma': 'OK',\n",
    "    'Oregon': 'OR',\n",
    "    'Pennsylvania': 'PA',\n",
    "    'Rhode Island': 'RI',\n",
    "    'South Carolina': 'SC',\n",
    "    'South Dakota': 'SD',\n",
    "    'Tennessee': 'TN',\n",
    "    'Texas': 'TX',\n",
    "    'Utah': 'UT',\n",
    "    'Vermont': 'VT',\n",
    "    'Virginia': 'VA',\n",
    "    'Washington': 'WA',\n",
    "    'West Virginia': 'WV',\n",
    "    'Wisconsin': 'WI',\n",
    "    'Wyoming': 'WY',\n",
    "}"
   ]
  },
  {
   "cell_type": "code",
   "execution_count": 53,
   "metadata": {},
   "outputs": [],
   "source": [
    "bachelorette[['ETTE_HOMECITY', 'ETTE_HOMESTATE', 'Other']] = bachelorette['ETTE_HOMETOWN'].str.split(', ',expand=True)\n",
    "\n",
    "# Convert Hometown_State to us state abbreviation if relevant\n",
    "StateAbbrev = []\n",
    "for index, row in bachelorette.iterrows():\n",
    "    #print(row['c1'], row['c2'])\n",
    "    if row['ETTE_HOMESTATE'] in us_state_abbrev: \n",
    "        StateAbbrev.append(us_state_abbrev[row['ETTE_HOMESTATE']])\n",
    "    else: \n",
    "        StateAbbrev.append(row['ETTE_HOMESTATE'])\n",
    "        \n",
    "bachelorette['ETTE_STATESHORT'] = StateAbbrev"
   ]
  },
  {
   "cell_type": "code",
   "execution_count": 54,
   "metadata": {},
   "outputs": [],
   "source": [
    "bachelorette[['HOMETOWN_CITY', 'HOMETOWN_STATE']] = bachelorette['HOMETOWN'].str.split(', ',expand=True)\n",
    "\n",
    "# Convert Hometown_State to us state abbreviation if relevant\n",
    "StateAbbrev = []\n",
    "for index, row in bachelorette.iterrows():\n",
    "    #print(row['c1'], row['c2'])\n",
    "    if row['HOMETOWN_STATE'] in us_state_abbrev: \n",
    "        StateAbbrev.append(us_state_abbrev[row['HOMETOWN_STATE']])\n",
    "    else: \n",
    "        StateAbbrev.append(row['HOMETOWN_STATE'])\n",
    "        \n",
    "bachelorette['HOMESTATE_SHORT'] = StateAbbrev"
   ]
  },
  {
   "cell_type": "code",
   "execution_count": 55,
   "metadata": {},
   "outputs": [],
   "source": [
    "states = {\n",
    "        'AK': 'O',\n",
    "        'AL': 'S',\n",
    "        'AR': 'S',\n",
    "        'AS': 'O',\n",
    "        'AZ': 'W',\n",
    "        'CA': 'W',\n",
    "        'CO': 'W',\n",
    "        'CT': 'N',\n",
    "        'DC': 'N',\n",
    "        'DE': 'N',\n",
    "        'FL': 'S',\n",
    "        'GA': 'S',\n",
    "        'GU': 'O',\n",
    "        'HI': 'O',\n",
    "        'IA': 'M',\n",
    "        'ID': 'W',\n",
    "        'IL': 'M',\n",
    "        'IN': 'M',\n",
    "        'KS': 'M',\n",
    "        'KY': 'S',\n",
    "        'LA': 'S',\n",
    "        'MA': 'N',\n",
    "        'MD': 'N',\n",
    "        'ME': 'N',\n",
    "        'MI': 'W',\n",
    "        'MN': 'M',\n",
    "        'MO': 'M',\n",
    "        'MP': 'O',\n",
    "        'MS': 'S',\n",
    "        'MT': 'W',\n",
    "        'NA': 'O',\n",
    "        'NC': 'S',\n",
    "        'ND': 'M',\n",
    "        'NE': 'W',\n",
    "        'NH': 'N',\n",
    "        'NJ': 'N',\n",
    "        'NM': 'W',\n",
    "        'NV': 'W',\n",
    "        'NY': 'N',\n",
    "        'OH': 'M',\n",
    "        'OK': 'S',\n",
    "        'OR': 'W',\n",
    "        'PA': 'N',\n",
    "        'PR': 'O',\n",
    "        'RI': 'N',\n",
    "        'SC': 'S',\n",
    "        'SD': 'M',\n",
    "        'TN': 'S',\n",
    "        'TX': 'S',\n",
    "        'UT': 'W',\n",
    "        'VA': 'S',\n",
    "        'VI': 'O',\n",
    "        'VT': 'N',\n",
    "        'WA': 'W',\n",
    "        'WI': 'M',\n",
    "        'WV': 'S',\n",
    "        'WY': 'W'\n",
    "}"
   ]
  },
  {
   "cell_type": "code",
   "execution_count": 56,
   "metadata": {},
   "outputs": [],
   "source": [
    "# Binary for same city or state\n",
    "bachelorette['SAME_CITY'] = np.where(bachelorette['ETTE_HOMECITY'] == bachelorette['HOMETOWN_CITY'], 1, 0)\n",
    "bachelorette['SAME_STATE'] = np.where(bachelorette['ETTE_STATESHORT'] == bachelorette['HOMESTATE_SHORT'], 1, 0)"
   ]
  },
  {
   "cell_type": "code",
   "execution_count": 57,
   "metadata": {},
   "outputs": [],
   "source": [
    "# Convert Bachelor state to region\n",
    "StateRegion = []\n",
    "for index, row in bachelorette.iterrows():\n",
    "    #print(row['c1'], row['c2'])\n",
    "    if row['ETTE_STATESHORT'] in states: \n",
    "        StateRegion.append(states[row['ETTE_STATESHORT']])\n",
    "    else: \n",
    "        StateRegion.append(row['ETTE_STATESHORT'])\n",
    "        \n",
    "bachelorette['ETTE_REGION'] = StateRegion"
   ]
  },
  {
   "cell_type": "code",
   "execution_count": 58,
   "metadata": {},
   "outputs": [],
   "source": [
    "# Convert Contestant state to region\n",
    "StateRegion = []\n",
    "for index, row in bachelorette.iterrows():\n",
    "    #print(row['c1'], row['c2'])\n",
    "    if row['HOMESTATE_SHORT'] in states: \n",
    "        StateRegion.append(states[row['HOMESTATE_SHORT']])\n",
    "    else: \n",
    "        StateRegion.append(row['HOMESTATE_SHORT'])\n",
    "        \n",
    "bachelorette['REGION'] = StateRegion"
   ]
  },
  {
   "cell_type": "code",
   "execution_count": 59,
   "metadata": {},
   "outputs": [],
   "source": [
    "# binary if bachelor region and contestant region are the same\n",
    "bachelorette['SAME_REGION'] = np.where(bachelorette['ETTE_REGION'] == bachelorette['REGION'], 1, 0)"
   ]
  },
  {
   "cell_type": "markdown",
   "metadata": {},
   "source": [
    "## Occupation"
   ]
  },
  {
   "cell_type": "code",
   "execution_count": 60,
   "metadata": {},
   "outputs": [],
   "source": [
    "#bachelorette['ETTE_OCCUPATION'].unique()"
   ]
  },
  {
   "cell_type": "code",
   "execution_count": 61,
   "metadata": {},
   "outputs": [],
   "source": [
    "#bachelorette['ETTE_OCCGROUP'] = np.where(bachelorette['ETTE_OCCUPATION'] == 'Real Estate Developer', 'Real Estate/Realtor', 0)\n",
    "#bachelorette['ETTE_OCCGROUP'] = np.where(bachelorette['ETTE_OCCUPATION'] == 'Dance Instructor', 'Sports', bachelorette['ETTE_OCCGROUP'])\n",
    "#bachelorette['ETTE_OCCGROUP'] = np.where(bachelorette['ETTE_OCCUPATION'] == 'Assistant District Attorney', 'Legal', bachelorette['ETTE_OCCGROUP'])\n",
    "#bachelorette['ETTE_OCCGROUP'] = np.where(bachelorette['ETTE_OCCUPATION'] == 'Bridal Stylist', 'Other', bachelorette['ETTE_OCCGROUP'])\n",
    "#bachelorette['ETTE_OCCGROUP'] = np.where(bachelorette['ETTE_OCCUPATION'] == \"Children's hospital event planner\", 'Other', bachelorette['ETTE_OCCGROUP'])\n",
    "#bachelorette['ETTE_OCCGROUP'] = np.where(bachelorette['ETTE_OCCUPATION'] == 'Advertising account manager', 'Sales', bachelorette['ETTE_OCCGROUP'])\n",
    "#bachelorette['ETTE_OCCGROUP'] = np.where(bachelorette['ETTE_OCCUPATION'] == 'Interior designer', 'Art and Design', bachelorette['ETTE_OCCGROUP'])\n",
    "#bachelorette['ETTE_OCCGROUP'] = np.where(bachelorette['ETTE_OCCUPATION'] == 'Real estate agent', 'Real Estate/Realtor', bachelorette['ETTE_OCCGROUP'])\n",
    "\n",
    "bachelorette['SAME_OCCUPATIONGROUP'] = np.where(bachelorette['OCCUPATION_GROUP'] == bachelorette['ETTE_OCCUPATION_GROUP'], 1, 0)"
   ]
  },
  {
   "cell_type": "markdown",
   "metadata": {},
   "source": [
    "## Cut down to only necessary variables"
   ]
  },
  {
   "cell_type": "code",
   "execution_count": 62,
   "metadata": {},
   "outputs": [
    {
     "data": {
      "text/html": [
       "<div>\n",
       "<style scoped>\n",
       "    .dataframe tbody tr th:only-of-type {\n",
       "        vertical-align: middle;\n",
       "    }\n",
       "\n",
       "    .dataframe tbody tr th {\n",
       "        vertical-align: top;\n",
       "    }\n",
       "\n",
       "    .dataframe thead th {\n",
       "        text-align: right;\n",
       "    }\n",
       "</style>\n",
       "<table border=\"1\" class=\"dataframe\">\n",
       "  <thead>\n",
       "    <tr style=\"text-align: right;\">\n",
       "      <th></th>\n",
       "      <th>SHOW</th>\n",
       "      <th>SEASON</th>\n",
       "      <th>CONTESTANT</th>\n",
       "      <th>NAME</th>\n",
       "      <th>AGE</th>\n",
       "      <th>OCCUPATION</th>\n",
       "      <th>OCCUPATION_GROUP</th>\n",
       "      <th>HOMETOWN</th>\n",
       "      <th>ELIMINATION-1</th>\n",
       "      <th>ELIMINATION-2</th>\n",
       "      <th>...</th>\n",
       "      <th>ETTE_STATESHORT</th>\n",
       "      <th>HOMETOWN_CITY</th>\n",
       "      <th>HOMETOWN_STATE</th>\n",
       "      <th>HOMESTATE_SHORT</th>\n",
       "      <th>SAME_CITY</th>\n",
       "      <th>SAME_STATE</th>\n",
       "      <th>ETTE_REGION</th>\n",
       "      <th>REGION</th>\n",
       "      <th>SAME_REGION</th>\n",
       "      <th>SAME_OCCUPATIONGROUP</th>\n",
       "    </tr>\n",
       "  </thead>\n",
       "  <tbody>\n",
       "    <tr>\n",
       "      <th>0</th>\n",
       "      <td>Bachelorette</td>\n",
       "      <td>14</td>\n",
       "      <td>14_GARRETT_Y</td>\n",
       "      <td>Garrett Yrigoyen</td>\n",
       "      <td>29</td>\n",
       "      <td>Medical Sales Representative</td>\n",
       "      <td>Sales</td>\n",
       "      <td>Manteca, California</td>\n",
       "      <td>R1</td>\n",
       "      <td>NaN</td>\n",
       "      <td>...</td>\n",
       "      <td>MN</td>\n",
       "      <td>Manteca</td>\n",
       "      <td>California</td>\n",
       "      <td>CA</td>\n",
       "      <td>0</td>\n",
       "      <td>0</td>\n",
       "      <td>M</td>\n",
       "      <td>W</td>\n",
       "      <td>0</td>\n",
       "      <td>0</td>\n",
       "    </tr>\n",
       "    <tr>\n",
       "      <th>1</th>\n",
       "      <td>Bachelorette</td>\n",
       "      <td>14</td>\n",
       "      <td>14_BLAKE_H</td>\n",
       "      <td>Blake Horstmann</td>\n",
       "      <td>28</td>\n",
       "      <td>Sales Rep</td>\n",
       "      <td>Sales</td>\n",
       "      <td>Bailey, Colorado</td>\n",
       "      <td>NaN</td>\n",
       "      <td>R</td>\n",
       "      <td>...</td>\n",
       "      <td>MN</td>\n",
       "      <td>Bailey</td>\n",
       "      <td>Colorado</td>\n",
       "      <td>CO</td>\n",
       "      <td>0</td>\n",
       "      <td>0</td>\n",
       "      <td>M</td>\n",
       "      <td>W</td>\n",
       "      <td>0</td>\n",
       "      <td>0</td>\n",
       "    </tr>\n",
       "    <tr>\n",
       "      <th>2</th>\n",
       "      <td>Bachelorette</td>\n",
       "      <td>14</td>\n",
       "      <td>14_JASON_T</td>\n",
       "      <td>Jason Tartick</td>\n",
       "      <td>29</td>\n",
       "      <td>Senior Corporate Banker</td>\n",
       "      <td>FinanceInvestmentBanking</td>\n",
       "      <td>Buffalo, New York</td>\n",
       "      <td>NaN</td>\n",
       "      <td>NaN</td>\n",
       "      <td>...</td>\n",
       "      <td>MN</td>\n",
       "      <td>Buffalo</td>\n",
       "      <td>New York</td>\n",
       "      <td>NY</td>\n",
       "      <td>0</td>\n",
       "      <td>0</td>\n",
       "      <td>M</td>\n",
       "      <td>N</td>\n",
       "      <td>0</td>\n",
       "      <td>0</td>\n",
       "    </tr>\n",
       "    <tr>\n",
       "      <th>3</th>\n",
       "      <td>Bachelorette</td>\n",
       "      <td>14</td>\n",
       "      <td>14_COLTON_U</td>\n",
       "      <td>Colton Underwood</td>\n",
       "      <td>26</td>\n",
       "      <td>Former Pro Football Player</td>\n",
       "      <td>Sports</td>\n",
       "      <td>Washington, Illinois</td>\n",
       "      <td>NaN</td>\n",
       "      <td>NaN</td>\n",
       "      <td>...</td>\n",
       "      <td>MN</td>\n",
       "      <td>Washington</td>\n",
       "      <td>Illinois</td>\n",
       "      <td>IL</td>\n",
       "      <td>0</td>\n",
       "      <td>0</td>\n",
       "      <td>M</td>\n",
       "      <td>M</td>\n",
       "      <td>1</td>\n",
       "      <td>0</td>\n",
       "    </tr>\n",
       "    <tr>\n",
       "      <th>4</th>\n",
       "      <td>Bachelorette</td>\n",
       "      <td>14</td>\n",
       "      <td>14_WILLS_R</td>\n",
       "      <td>Wills Reid</td>\n",
       "      <td>29</td>\n",
       "      <td>Graphic Designer</td>\n",
       "      <td>Art and Design</td>\n",
       "      <td>Los Angeles, California</td>\n",
       "      <td>NaN</td>\n",
       "      <td>R</td>\n",
       "      <td>...</td>\n",
       "      <td>MN</td>\n",
       "      <td>Los Angeles</td>\n",
       "      <td>California</td>\n",
       "      <td>CA</td>\n",
       "      <td>0</td>\n",
       "      <td>0</td>\n",
       "      <td>M</td>\n",
       "      <td>W</td>\n",
       "      <td>0</td>\n",
       "      <td>0</td>\n",
       "    </tr>\n",
       "  </tbody>\n",
       "</table>\n",
       "<p>5 rows × 73 columns</p>\n",
       "</div>"
      ],
      "text/plain": [
       "           SHOW  SEASON    CONTESTANT              NAME  AGE  \\\n",
       "0  Bachelorette      14  14_GARRETT_Y  Garrett Yrigoyen   29   \n",
       "1  Bachelorette      14    14_BLAKE_H   Blake Horstmann   28   \n",
       "2  Bachelorette      14    14_JASON_T     Jason Tartick   29   \n",
       "3  Bachelorette      14   14_COLTON_U  Colton Underwood   26   \n",
       "4  Bachelorette      14    14_WILLS_R        Wills Reid   29   \n",
       "\n",
       "                     OCCUPATION          OCCUPATION_GROUP  \\\n",
       "0  Medical Sales Representative                     Sales   \n",
       "1                     Sales Rep                     Sales   \n",
       "2       Senior Corporate Banker  FinanceInvestmentBanking   \n",
       "3    Former Pro Football Player                    Sports   \n",
       "4              Graphic Designer            Art and Design   \n",
       "\n",
       "                  HOMETOWN ELIMINATION-1 ELIMINATION-2         ...           \\\n",
       "0      Manteca, California            R1           NaN         ...            \n",
       "1         Bailey, Colorado           NaN             R         ...            \n",
       "2        Buffalo, New York           NaN           NaN         ...            \n",
       "3     Washington, Illinois           NaN           NaN         ...            \n",
       "4  Los Angeles, California           NaN             R         ...            \n",
       "\n",
       "  ETTE_STATESHORT HOMETOWN_CITY HOMETOWN_STATE HOMESTATE_SHORT SAME_CITY  \\\n",
       "0              MN       Manteca     California              CA         0   \n",
       "1              MN        Bailey       Colorado              CO         0   \n",
       "2              MN       Buffalo       New York              NY         0   \n",
       "3              MN    Washington       Illinois              IL         0   \n",
       "4              MN   Los Angeles     California              CA         0   \n",
       "\n",
       "  SAME_STATE ETTE_REGION REGION SAME_REGION SAME_OCCUPATIONGROUP  \n",
       "0          0           M      W           0                    0  \n",
       "1          0           M      W           0                    0  \n",
       "2          0           M      N           0                    0  \n",
       "3          0           M      M           1                    0  \n",
       "4          0           M      W           0                    0  \n",
       "\n",
       "[5 rows x 73 columns]"
      ]
     },
     "execution_count": 62,
     "metadata": {},
     "output_type": "execute_result"
    }
   ],
   "source": [
    "bachelorette.head()"
   ]
  },
  {
   "cell_type": "code",
   "execution_count": 63,
   "metadata": {},
   "outputs": [
    {
     "data": {
      "text/plain": [
       "Index(['SHOW', 'SEASON', 'CONTESTANT', 'NAME', 'AGE', 'OCCUPATION',\n",
       "       'OCCUPATION_GROUP', 'HOMETOWN', 'ELIMINATION-1', 'ELIMINATION-2',\n",
       "       'ELIMINATION-3', 'ELIMINATION-4', 'ELIMINATION-5', 'ELIMINATION-6',\n",
       "       'ELIMINATION-7', 'ELIMINATION-8', 'ELIMINATION-9', 'ELIMINATION-10',\n",
       "       'DATES-1', 'DATES-2', 'DATES-3', 'DATES-4', 'DATES-5', 'DATES-6',\n",
       "       'DATES-7', 'DATES-8', 'DATES-9', 'DATES-10', 'ETTE_NAME', 'ETTE_AGE',\n",
       "       'ETTE_OCCUPATION', 'ETTE_OCCUPATION_GROUP', 'ETTE_HOMETOWN', 'ROSE-1',\n",
       "       'ROSE-2', 'ROSE-3', 'ROSE-4', 'ROSE-5', 'ROSE-6', 'ROSE-7', 'ROSE-8',\n",
       "       'ROSE-9', 'ROSE-10', 'FIR-1', 'FIR-2', 'FIR-3', 'FIR-4', 'FIR-5',\n",
       "       'FIR-6', 'FIR-7', 'FIR-8', 'FIR-9', 'FIR-10', 'WINNER', 'TOP_THREE',\n",
       "       'AGE_DIFF', 'AGE_MEAN', 'AGE_DIFF_MEAN_POOL', 'AGE_DIFF_BACH_POOL',\n",
       "       'AGE_DIFF_CAT', 'ETTE_HOMECITY', 'ETTE_HOMESTATE', 'Other',\n",
       "       'ETTE_STATESHORT', 'HOMETOWN_CITY', 'HOMETOWN_STATE', 'HOMESTATE_SHORT',\n",
       "       'SAME_CITY', 'SAME_STATE', 'ETTE_REGION', 'REGION', 'SAME_REGION',\n",
       "       'SAME_OCCUPATIONGROUP'],\n",
       "      dtype='object')"
      ]
     },
     "execution_count": 63,
     "metadata": {},
     "output_type": "execute_result"
    }
   ],
   "source": [
    "bachelorette.columns"
   ]
  },
  {
   "cell_type": "code",
   "execution_count": 65,
   "metadata": {},
   "outputs": [],
   "source": [
    "ette_final = bachelorette[['SHOW', 'SEASON', 'ETTE_NAME', 'CONTESTANT', 'NAME', 'AGE', \n",
    "       'ELIMINATION-1', 'ELIMINATION-2', 'ELIMINATION-3', 'ELIMINATION-4', 'ELIMINATION-5', 'ELIMINATION-6', 'ELIMINATION-7', 'ELIMINATION-8', 'ELIMINATION-9', 'ELIMINATION-10',\n",
    "       'DATES-1', 'DATES-2', 'DATES-3', 'DATES-4', 'DATES-5', 'DATES-6', 'DATES-7', 'DATES-8', 'DATES-9', 'DATES-10', \n",
    "       'FIR-1', 'FIR-2', 'FIR-3', 'FIR-4', 'FIR-5', 'FIR-6', 'FIR-7', 'FIR-8', 'FIR-9', 'FIR-10',\n",
    "       'ROSE-1', 'ROSE-2', 'ROSE-3', 'ROSE-4', 'ROSE-5', 'ROSE-6', 'ROSE-7', 'ROSE-8', 'ROSE-9', 'ROSE-10',\n",
    "       'AGE_DIFF', 'AGE_DIFF_MEAN_POOL', 'AGE_DIFF_CAT',\n",
    "       'SAME_CITY', 'SAME_STATE', 'SAME_REGION', 'SAME_OCCUPATIONGROUP', 'TOP_THREE',\n",
    "       'WINNER']].copy()"
   ]
  },
  {
   "cell_type": "markdown",
   "metadata": {},
   "source": [
    "## Need to change how DATES are formatted"
   ]
  },
  {
   "cell_type": "code",
   "execution_count": 66,
   "metadata": {},
   "outputs": [],
   "source": [
    "ette_final['DATES-1'] = ette_final['DATES-1'].str[1:]\n",
    "ette_final['DATES-2'] = ette_final['DATES-2'].str[1:]\n",
    "ette_final['DATES-3'] = ette_final['DATES-3'].str[1:]\n",
    "ette_final['DATES-4'] = ette_final['DATES-4'].str[1:]\n",
    "ette_final['DATES-5'] = ette_final['DATES-5'].str[1:]\n",
    "ette_final['DATES-6'] = ette_final['DATES-6'].str[1:]\n",
    "ette_final['DATES-7'] = ette_final['DATES-7'].str[1:]\n",
    "ette_final['DATES-8'] = ette_final['DATES-8'].str[1:]\n",
    "ette_final['DATES-9'] = ette_final['DATES-9'].str[1:]\n",
    "ette_final['DATES-10'] = ette_final['DATES-10'].str[1:]"
   ]
  },
  {
   "cell_type": "code",
   "execution_count": 67,
   "metadata": {},
   "outputs": [],
   "source": [
    "ette_final['DATES-1'] = pd.to_numeric(ette_final['DATES-1'], errors='coerce')\n",
    "ette_final['DATES-2'] = pd.to_numeric(ette_final['DATES-2'], errors='coerce')\n",
    "ette_final['DATES-3'] = pd.to_numeric(ette_final['DATES-3'], errors='coerce')\n",
    "ette_final['DATES-4'] = pd.to_numeric(ette_final['DATES-4'], errors='coerce')\n",
    "ette_final['DATES-5'] = pd.to_numeric(ette_final['DATES-5'], errors='coerce')\n",
    "ette_final['DATES-6'] = pd.to_numeric(ette_final['DATES-6'], errors='coerce')\n",
    "ette_final['DATES-7'] = pd.to_numeric(ette_final['DATES-7'], errors='coerce')\n",
    "ette_final['DATES-8'] = pd.to_numeric(ette_final['DATES-8'], errors='coerce')\n",
    "ette_final['DATES-9'] = pd.to_numeric(ette_final['DATES-9'], errors='coerce')\n",
    "ette_final['DATES-10'] = pd.to_numeric(ette_final['DATES-10'], errors='coerce')"
   ]
  },
  {
   "cell_type": "code",
   "execution_count": 68,
   "metadata": {},
   "outputs": [
    {
     "data": {
      "text/plain": [
       "0    293\n",
       "1     23\n",
       "Name: SAME_OCCUPATIONGROUP, dtype: int64"
      ]
     },
     "execution_count": 68,
     "metadata": {},
     "output_type": "execute_result"
    }
   ],
   "source": [
    "# 'AGE', 'AGE_DIFF', 'AGE_DIFF_MEAN_POOL', 'AGE_DIFF_CAT', 'SAME_CITY', 'SAME_STATE', 'SAME_REGION', 'SAME_OCCUPATIONGROUP'\n",
    "ette_final.SAME_OCCUPATIONGROUP.value_counts(dropna=False)"
   ]
  },
  {
   "cell_type": "markdown",
   "metadata": {},
   "source": [
    "Not using AGE_DIFF, AGE_DIFF_MEAN_POOL because of NaNs\n",
    "Not using SAME_CITY because they are all zeros"
   ]
  },
  {
   "cell_type": "code",
   "execution_count": 69,
   "metadata": {},
   "outputs": [],
   "source": [
    "## change all NaNs in ROSES, FIR, and DATES to 0\n",
    "n = 1\n",
    "\n",
    "while n <= 10: \n",
    "    d = 'DATES-' + str(n)\n",
    "    f = 'FIR-' + str(n)\n",
    "    r = 'ROSE-' + str(n)\n",
    "    \n",
    "    ette_final[d] = ette_final[d].fillna(0)\n",
    "    ette_final[f] = ette_final[f].fillna(0)\n",
    "    ette_final[r] = ette_final[r].fillna(0)\n",
    "    \n",
    "    n = n + 1"
   ]
  },
  {
   "cell_type": "markdown",
   "metadata": {},
   "source": [
    "### Add in Twitter Sentiment Data"
   ]
  },
  {
   "cell_type": "code",
   "execution_count": null,
   "metadata": {},
   "outputs": [],
   "source": [
    "sentiment = pd.read_csv('twitterfeatures3.csv')"
   ]
  },
  {
   "cell_type": "code",
   "execution_count": null,
   "metadata": {},
   "outputs": [],
   "source": [
    "# take only seasons we have matching data for\n",
    "#sentiment = sentiment[(sentiment.Season != 13)&(sentiment.Season != 14)].copy()\n",
    "\n",
    "print(len(sentiment))\n",
    "print(len(ette_final))\n",
    "\n",
    "# merge with bachelorette \n",
    "ette_all = ette_final.merge(sentiment, left_on = ['NAME', 'SEASON'], right_on = ['Name', 'Season'])\n",
    "\n",
    "print(len(ette_all))"
   ]
  },
  {
   "cell_type": "code",
   "execution_count": null,
   "metadata": {},
   "outputs": [],
   "source": [
    "ette_all.SEASON.unique()\n",
    "ette_all.columns"
   ]
  },
  {
   "cell_type": "code",
   "execution_count": null,
   "metadata": {},
   "outputs": [],
   "source": [
    "# select only the subset of variables we care about\n",
    "ette_all = ette_all[['SHOW', 'SEASON', 'ETTE_NAME', 'CONTESTANT', 'NAME',\n",
    "       'AGE', 'ELIMINATION-1', 'ELIMINATION-2', 'ELIMINATION-3',\n",
    "       'ELIMINATION-4', 'ELIMINATION-5', 'ELIMINATION-6', 'ELIMINATION-7',\n",
    "       'ELIMINATION-8', 'ELIMINATION-9', 'ELIMINATION-10', 'DATES-1',\n",
    "       'DATES-2', 'DATES-3', 'DATES-4', 'DATES-5', 'DATES-6', 'DATES-7',\n",
    "       'DATES-8', 'DATES-9', 'DATES-10', 'FIR-1', 'FIR-2', 'FIR-3', 'FIR-4',\n",
    "       'FIR-5', 'FIR-6', 'FIR-7', 'FIR-8', 'FIR-9', 'FIR-10', 'ROSE-1',\n",
    "       'ROSE-2', 'ROSE-3', 'ROSE-4', 'ROSE-5', 'ROSE-6', 'ROSE-7', 'ROSE-8',\n",
    "       'ROSE-9', 'ROSE-10', '10.0-Negative', '10.0-Neutral',\n",
    "       '10.0-Positive', '10.0-Total', '10.0-choose', '10.0-win',\n",
    "       '11.0-Negative', '11.0-Neutral', '11.0-Positive', '11.0-Total',\n",
    "       '11.0-choose', '11.0-win', '2.0-Negative', '2.0-Neutral',\n",
    "       '2.0-Positive', '2.0-Total', '2.0-choose', '2.0-win', '3.0-Negative',\n",
    "       '3.0-Neutral', '3.0-Positive', '3.0-Total', '3.0-choose', '3.0-win',\n",
    "       '4.0-Negative', '4.0-Neutral', '4.0-Positive', '4.0-Total',\n",
    "       '4.0-choose', '4.0-win', '5.0-Negative', '5.0-Neutral', '5.0-Positive',\n",
    "       '5.0-Total', '5.0-choose', '5.0-win', '6.0-Negative', '6.0-Neutral',\n",
    "       '6.0-Positive', '6.0-Total', '6.0-choose', '6.0-win', '7.0-Negative',\n",
    "       '7.0-Neutral', '7.0-Positive', '7.0-Total', '7.0-choose', '7.0-win',\n",
    "       '8.0-Negative', '8.0-Neutral', '8.0-Positive', '8.0-Total',\n",
    "       '8.0-choose', '8.0-win', '9.0-Negative', '9.0-Neutral', '9.0-Positive',\n",
    "       '9.0-Total', '9.0-choose', '9.0-win', 'AGE_DIFF', 'AGE_DIFF_MEAN_POOL', 'AGE_DIFF_CAT',\n",
    "       'SAME_CITY', 'SAME_STATE', 'SAME_REGION', 'SAME_OCCUPATIONGROUP', 'TOP_THREE',\n",
    "       'WINNER']].copy()\n",
    "\n",
    "# '1.0-Negative', '1.0-Neutral', '1.0-Positive', '1.0-Total', '1.0-choose', '1.0-win',"
   ]
  },
  {
   "cell_type": "code",
   "execution_count": null,
   "metadata": {},
   "outputs": [],
   "source": [
    "ette_all.dtypes"
   ]
  },
  {
   "cell_type": "code",
   "execution_count": null,
   "metadata": {},
   "outputs": [],
   "source": [
    "## fill missing data with zeros\n",
    "ette_all[['10.0-Negative', '10.0-Neutral',\n",
    "       '10.0-Positive', '10.0-Total', '10.0-choose', '10.0-win',\n",
    "       '11.0-Negative', '11.0-Neutral', '11.0-Positive', '11.0-Total',\n",
    "       '11.0-choose', '11.0-win', '2.0-Negative', '2.0-Neutral',\n",
    "       '2.0-Positive', '2.0-Total', '2.0-choose', '2.0-win', '3.0-Negative',\n",
    "       '3.0-Neutral', '3.0-Positive', '3.0-Total', '3.0-choose', '3.0-win',\n",
    "       '4.0-Negative', '4.0-Neutral', '4.0-Positive', '4.0-Total',\n",
    "       '4.0-choose', '4.0-win', '5.0-Negative', '5.0-Neutral', '5.0-Positive',\n",
    "       '5.0-Total', '5.0-choose', '5.0-win', '6.0-Negative', '6.0-Neutral',\n",
    "       '6.0-Positive', '6.0-Total', '6.0-choose', '6.0-win', '7.0-Negative',\n",
    "       '7.0-Neutral', '7.0-Positive', '7.0-Total', '7.0-choose', '7.0-win',\n",
    "       '8.0-Negative', '8.0-Neutral', '8.0-Positive', '8.0-Total',\n",
    "       '8.0-choose', '8.0-win', '9.0-Negative', '9.0-Neutral', '9.0-Positive',\n",
    "       '9.0-Total', '9.0-choose', '9.0-win']] = ette_all[['10.0-Negative', '10.0-Neutral',\n",
    "       '10.0-Positive', '10.0-Total', '10.0-choose', '10.0-win',\n",
    "       '11.0-Negative', '11.0-Neutral', '11.0-Positive', '11.0-Total',\n",
    "       '11.0-choose', '11.0-win', '2.0-Negative', '2.0-Neutral',\n",
    "       '2.0-Positive', '2.0-Total', '2.0-choose', '2.0-win', '3.0-Negative',\n",
    "       '3.0-Neutral', '3.0-Positive', '3.0-Total', '3.0-choose', '3.0-win',\n",
    "       '4.0-Negative', '4.0-Neutral', '4.0-Positive', '4.0-Total',\n",
    "       '4.0-choose', '4.0-win', '5.0-Negative', '5.0-Neutral', '5.0-Positive',\n",
    "       '5.0-Total', '5.0-choose', '5.0-win', '6.0-Negative', '6.0-Neutral',\n",
    "       '6.0-Positive', '6.0-Total', '6.0-choose', '6.0-win', '7.0-Negative',\n",
    "       '7.0-Neutral', '7.0-Positive', '7.0-Total', '7.0-choose', '7.0-win',\n",
    "       '8.0-Negative', '8.0-Neutral', '8.0-Positive', '8.0-Total',\n",
    "       '8.0-choose', '8.0-win', '9.0-Negative', '9.0-Neutral', '9.0-Positive',\n",
    "       '9.0-Total', '9.0-choose', '9.0-win']].fillna(0)\n",
    "\n",
    "#'1.0-Negative', '1.0-Neutral', '1.0-Positive', '1.0-Total','1.0-choose', '1.0-win'\n",
    "# '1.0-Negative', '1.0-Neutral', '1.0-Positive', '1.0-Total','1.0-choose', '1.0-win',"
   ]
  },
  {
   "cell_type": "markdown",
   "metadata": {},
   "source": [
    "### Create Condensed Past/Future Variable"
   ]
  },
  {
   "cell_type": "code",
   "execution_count": null,
   "metadata": {},
   "outputs": [],
   "source": [
    "# newvarhead == the main variable name you want the past variable to have\n",
    "# full_set == the data table used for the alterations\n",
    "# refvarhead == the variable ending used to make the past variable\n",
    "\n",
    "def past_current(newvarhead, full_set, refvarhead):\n",
    "    n = 3\n",
    "    while n < 12: \n",
    "        new_var = newvarhead + str(n + 1)\n",
    "        previous_var = newvarhead + str(n)\n",
    "        if n == 3: # this is the beginning\n",
    "            full_set[new_var] = (full_set['2' + refvarhead] + full_set[('3' + refvarhead)]) / 2\n",
    "            #print(n)\n",
    "            #print(new_var)\n",
    "        else: \n",
    "            #print(n)\n",
    "            #print(new_var)\n",
    "            #print(previous_var)\n",
    "            \n",
    "            reference = str(n) + refvarhead\n",
    "            full_set[new_var] = (full_set[previous_var] + full_set[reference]) / 2\n",
    "            #print(reference)\n",
    "        n = n + 1\n",
    "    return(full_set)"
   ]
  },
  {
   "cell_type": "code",
   "execution_count": null,
   "metadata": {},
   "outputs": [],
   "source": [
    "ette_all = past_current('PAST_POS_', ette_all, \".0-Positive\")\n",
    "ette_all = past_current('PAST_NEG_', ette_all, \".0-Negative\")\n",
    "ette_all = past_current('PAST_NEU_', ette_all, \".0-Neutral\")\n",
    "ette_all = past_current('PAST_TOT_', ette_all, \".0-Total\")\n",
    "ette_all = past_current('PAST_WIN_', ette_all, \".0-win\")\n",
    "ette_all = past_current('PAST_CHOOSE_', ette_all, \".0-choose\")"
   ]
  },
  {
   "cell_type": "code",
   "execution_count": 70,
   "metadata": {},
   "outputs": [],
   "source": [
    "# write out to csv file\n",
    "ette_all.to_csv('bachelorette_forprediction.csv')"
   ]
  }
 ],
 "metadata": {
  "kernelspec": {
   "display_name": "Python 3",
   "language": "python",
   "name": "python3"
  },
  "language_info": {
   "codemirror_mode": {
    "name": "ipython",
    "version": 3
   },
   "file_extension": ".py",
   "mimetype": "text/x-python",
   "name": "python",
   "nbconvert_exporter": "python",
   "pygments_lexer": "ipython3",
   "version": "3.6.5"
  }
 },
 "nbformat": 4,
 "nbformat_minor": 2
}
