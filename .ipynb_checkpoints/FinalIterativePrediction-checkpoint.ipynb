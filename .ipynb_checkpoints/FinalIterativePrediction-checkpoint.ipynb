{
 "cells": [
  {
   "cell_type": "markdown",
   "metadata": {},
   "source": [
    "# Iterative Random Forest Prediction\n",
    "### Using Bachelorette Data, Predicts the Winner Each Week"
   ]
  },
  {
   "cell_type": "code",
   "execution_count": null,
   "metadata": {},
   "outputs": [],
   "source": [
    "# load in libraries\n",
    "import pandas as pd\n",
    "import numpy as np\n",
    "%matplotlib inline\n",
    "import scipy as sp\n",
    "import sklearn as sk\n",
    "from sklearn.model_selection import train_test_split\n",
    "from sklearn.model_selection import cross_val_score\n",
    "import sklearn.ensemble as skens\n",
    "import sklearn.metrics as skmetric\n",
    "import sklearn.naive_bayes as sknb\n",
    "import sklearn.tree as sktree\n",
    "import matplotlib.pyplot as plt\n",
    "import seaborn as sns\n",
    "sns.set(style='white', color_codes=True, font_scale=1.3)\n",
    "import sklearn.externals.six as sksix\n",
    "import IPython.display as ipd\n",
    "from sklearn.model_selection import cross_val_score\n",
    "from sklearn import metrics\n",
    "import os"
   ]
  },
  {
   "cell_type": "code",
   "execution_count": null,
   "metadata": {},
   "outputs": [],
   "source": [
    "# load in data files\n"
   ]
  },
  {
   "cell_type": "markdown",
   "metadata": {},
   "source": [
    "## Choose Variables in Set"
   ]
  },
  {
   "cell_type": "code",
   "execution_count": null,
   "metadata": {},
   "outputs": [],
   "source": [
    "bachelorette = all_data_seasons[['SEASON','CONTESTANT', 'Name', 'ELIMINATION-1', 'ELIMINATION-2',\n",
    "       'ELIMINATION-3', 'ELIMINATION-4', 'ELIMINATION-5', 'ELIMINATION-6',\n",
    "       'ELIMINATION-7', 'ELIMINATION-8', 'ELIMINATION-9', 'ELIMINATION-10',\n",
    "       'DATES-1', 'DATES-2', 'DATES-3', 'DATES-4', 'DATES-5', 'DATES-6',\n",
    "       'DATES-7', 'DATES-8', 'DATES-9', 'DATES-10', 'Age', 'Occupation', 'Agreement_1', 'Hometown']].copy()"
   ]
  },
  {
   "cell_type": "markdown",
   "metadata": {},
   "source": [
    "## Prediction System"
   ]
  },
  {
   "cell_type": "code",
   "execution_count": null,
   "metadata": {},
   "outputs": [],
   "source": [
    "test_bach = bachelorette[bachelorette.SEASON == 12].copy()\n",
    "train_bach = bachelorette[bachelorette.SEASON != 12].copy()\n",
    "\n",
    "week = 1\n",
    "# 'Occupation', 'Agreement_1', 'Hometown'\n",
    "vars_to_use = ['WINNER', 'Age'] ### will need  to add other relevant predictor variables \n",
    "\n",
    "while week <= 10: # ten weeks of data available\n",
    "    \n",
    "    #new_var = 'DATES-' + str(week)\n",
    "    #vars_to_use.append(new_var)\n",
    "    \n",
    "    new_var = 'ROSE-' + str(week)\n",
    "    vars_to_use.append(new_var)\n",
    "    \n",
    "    new_var = 'FIR-' + str(week)\n",
    "    vars_to_use.append(new_var)\n",
    "    \n",
    "    # create model\n",
    "    rf_model = skens.RandomForestClassifier(n_estimators=10,oob_score=True, criterion='entropy')\n",
    "    \n",
    "    # train on correct variables based on week\n",
    "    ### need 'WINNER' binary as right/wrong\n",
    "    this_train = train_bach[vars_to_use].copy()\n",
    "    \n",
    "    # train model on our train set\n",
    "    rf_model.fit(this_train[vars_to_use[1:]], this_train.WINNER)\n",
    "    \n",
    "    # set up test set\n",
    "    this_test = test_bach[vars_to_use].copy()\n",
    "    \n",
    "    # test on correct variables based on week\n",
    "    # hide winners\n",
    "    predicted_labels = rf_model.predict(this_test[vars_to_use[1:]])\n",
    "    \n",
    "    # add in predictions\n",
    "    this_test['PREDICTED'] = predicted_labels\n",
    "    \n",
    "    print(week)\n",
    "    print(this_test[['PREDICTED', 'WINNER']])\n",
    "    \n",
    "    # remove contestants based on ELIMINATION\n",
    "    e_week_name = 'ELIMINATION-' + str(week)\n",
    "    \n",
    "    # keep them if their elimination value is null or is R (rose)\n",
    "    test_bach = test_bach[(test_bach[e_week_name].isnull()) | (test_bach[e_week_name] == 'R') | (test_bach[e_week_name] == 'R1') ]\n",
    "    train_bach = train_bach[(train_bach[e_week_name].isnull()) | (train_bach[e_week_name] == 'R') | (train_bach[e_week_name] == 'R1')]\n",
    "    \n",
    "    # increment time\n",
    "    week = week + 1\n",
    "    \n"
   ]
  }
 ],
 "metadata": {
  "kernelspec": {
   "display_name": "Python 3",
   "language": "python",
   "name": "python3"
  },
  "language_info": {
   "codemirror_mode": {
    "name": "ipython",
    "version": 3
   },
   "file_extension": ".py",
   "mimetype": "text/x-python",
   "name": "python",
   "nbconvert_exporter": "python",
   "pygments_lexer": "ipython3",
   "version": "3.6.5"
  }
 },
 "nbformat": 4,
 "nbformat_minor": 2
}
