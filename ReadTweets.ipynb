{
 "cells": [
  {
   "cell_type": "code",
   "execution_count": 1,
   "metadata": {},
   "outputs": [],
   "source": [
    "import json\n",
    "import pandas as pd\n",
    "from textblob import TextBlob\n",
    "import re\n",
    "import seaborn as sns\n",
    "import collections\n",
    "from matplotlib import pyplot as plt"
   ]
  },
  {
   "cell_type": "code",
   "execution_count": 3,
   "metadata": {},
   "outputs": [],
   "source": [
    "data = []\n",
    "with open('tweet_sample.2016-1-1.txt') as tweetfile:\n",
    "    for ea in tweetfile.readlines():\n",
    "#         print(ea)\n",
    "        data.append(json.loads(ea))"
   ]
  },
  {
   "cell_type": "code",
   "execution_count": 42,
   "metadata": {},
   "outputs": [
    {
     "name": "stdout",
     "output_type": "stream",
     "text": [
      "dict_keys(['created_at', 'id', 'id_str', 'text', 'source', 'truncated', 'in_reply_to_status_id', 'in_reply_to_status_id_str', 'in_reply_to_user_id', 'in_reply_to_user_id_str', 'in_reply_to_screen_name', 'user', 'geo', 'coordinates', 'place', 'contributors', 'is_quote_status', 'retweet_count', 'favorite_count', 'entities', 'favorited', 'retweeted', 'possibly_sensitive', 'filter_level', 'lang', 'timestamp_ms'])\n"
     ]
    }
   ],
   "source": [
    "print(data[0].keys())"
   ]
  },
  {
   "cell_type": "code",
   "execution_count": 4,
   "metadata": {},
   "outputs": [
    {
     "name": "stdout",
     "output_type": "stream",
     "text": [
      "\"This Is Brutal: Meet the Women! (11-19)\" https://t.co/jYmJuacF8g #TheBachelor\n",
      "---\n",
      "RT @a2yulia: The Bachelor 2016 Spoilers Watch the Drama in New Sneak Peek... https://t.co/dUmgUyzVZd\n",
      "---\n",
      "RT @Millsy11374: Look at what's right outside Times Square?  4 days away #Bachelornation! #TheBachelor https://t.co/QN1e8xN0rS\n",
      "---\n",
      "I'm at my stepsisters and #TheBachelor was on for a second and it was intense as fuck I might have to check it out\n",
      "---\n",
      "RT @BachelorABC: Ben Higgins is a perfect 10! This #TheBachelor key art will melt your heart. https://t.co/UKDCEGt8i4 https://t.co/9YRXSxi7…\n",
      "---\n",
      "RT @SquirrelChatter: Is This Whitney Bischoff's New Boyfriend? Looks Like #TheBachelor Chris Soules Is Last Year's News! https://t.co/lXn3c…\n",
      "---\n",
      "RT @SquirrelChatter: Is This Whitney Bischoff's New Boyfriend? Looks Like #TheBachelor Chris Soules Is Last Year's News! https://t.co/lXn3c…\n",
      "---\n",
      "The Bachelor (DVD, 2000) Chris O'Donell Renee Zelwegger https://t.co/8XGKdip4j2 https://t.co/28NRVYo4C9\n",
      "---\n",
      "'The Bachelor's' Ben Higgins Talks Love, Women and Night One's Twilight… | The Bachelor https://t.co/YHqNE7qSp9\n",
      "---\n",
      "'#TheBachelor's' Ben Higgins Talks Love, Women and Night One's Twilight… | The Bachelor https://t.co/grRtGlogUL\n",
      "---\n",
      "RT @RealityShowRept: Is This Whitney Bischoff's New Boyfriend? Looks Like #TheBachelor Chris Soules Is Last Year's News! https://t.co/LC85f…\n",
      "---\n",
      "RT @RealityShowRept: Is This Whitney Bischoff's New Boyfriend? Looks Like #TheBachelor Chris Soules Is Last Year's News! https://t.co/LC85f…\n",
      "---\n",
      "Is This Whitney Bischoff's New Boyfriend? #TheBachelor Chris Soules' Is Yesterday's News. https://t.co/bbRpHfpx9S https://t.co/tniRfxhlBH\n",
      "---\n",
      "RT @SquirrelChatter: Whitney Bischoff' Has A New Boyfriend! #TheBachelor Chris Soules' Is Yesterday's News. https://t.co/bbRpHfpx9S https:/…\n",
      "---\n",
      "Which #BachelorInParadise Stars Will Join #TheBachelor Ben Higgins On 2016 Rose Parade Float? https://t.co/AqrtigefsU - #RoseParade\n",
      "---\n",
      "Which #BachelorInParadise Stars Will Join #TheBachelor Ben Higgins On 2016 Rose Parade Float? https://t.co/m7OXBAgg8i - #RoseParade\n",
      "---\n",
      "RT @RealityShowRept: Which #BachelorInParadise Stars Will Join #TheBachelor Ben Higgins On 2016 Rose Parade Float? https://t.co/AqrtigefsU …\n",
      "---\n",
      "RT @RealityShowRept: Which #BachelorInParadise Stars Will Join #TheBachelor Ben Higgins On 2016 Rose Parade Float? https://t.co/AqrtigefsU …\n",
      "---\n",
      "RT @RealityShowRept: Which #BachelorInParadise Stars Will Join #TheBachelor Ben Higgins On 2016 Rose Parade Float? https://t.co/AqrtigefsU …\n",
      "---\n",
      "RT @RealityShowRept: Whitney Bischoff' Has A New Boyfriend! #TheBachelor Chris Soules' Is Yesterday's News. https://t.co/kGL3Mpbvpi https:/…\n",
      "---\n",
      "RT @ThatDealDiva: Which #BachelorInParadise Stars Will Join #TheBachelor Ben Higgins On 2016 Rose Parade Float? https://t.co/m7OXBAgg8i - #…\n",
      "---\n",
      "Resolutions? Daddy will not rest until he has found 30 potential mates for every single person who wants to marry in 2016. #TheBachelor\n",
      "---\n",
      "The Bachelor starting on Monday is 2016 motivation\n",
      "---\n",
      "@Millsy11374 All I know for sure so far is January 3rd will be pretty great!!🌹 #TheBachelor\n",
      "---\n",
      "RT @BachelorABC: Everything's coming up roses for Ben! Watch him wave his way through the #RoseParade on #TheBachelor float tomorrow! https…\n",
      "---\n",
      "RT @Andrea_Lupitaa: Waiting for the Trader Joes float that I helped work on and The Bachelor Ben Higgins!!  #RoseParade\n",
      "---\n",
      "Huffpo dating &amp; relationship advice - Jennifer Todryk: How Moms Feel About The Bachelor : Guilty Pleasure Meets Fu… https://t.co/rJRJVZdkQ7\n",
      "---\n",
      "@benhiggi how would you feel about calling it quits on being The Bachelor and marry me instead? Sound good?\n",
      "---\n",
      "I can't believe this is still some shit people waste their lives watching. #TheBachelor\n",
      "---\n",
      "The Bachelor for this season 😍 #RoseParade\n",
      "---\n",
      "*girls are crying on The Bachelor commercial* \n",
      "Dad: \"*crying* I lost my virginity and I don't know where to find it!\"\n",
      "---\n",
      "Today's The Bachelor ad with all the crying women is most utterly ridiculous. Really, @ABC?\n",
      "---\n",
      "looking good @benhiggi 😻😻 can't wait for Monday!!!! #RoseParade #TheBachelor\n",
      "---\n",
      "This guy knows a thing or two about roses! benhiggi and #TheBachelor family make their way down Colorado Blvd. #RoseParade #losangeles #RMR…\n",
      "---\n",
      "Why would The Bachelor be in the Rose Parade? 😒\n",
      "---\n",
      "@alroker did they really have to put those 3 bikini bimbos in The Bachelor float??!!!\n",
      "---\n",
      "RT @chrisbharrison: Here we go #TheBachelor #RoseParade\n",
      "---\n",
      "RT @BachelorABC: The tears are about to start raining down. #TheBachelor premieres Monday at 8|7c on ABC. https://t.co/2P8hGVpUeJ\n",
      "---\n",
      "@josh3rosen hot tub made it in the @RoseParade !! Check it out. Presidents winner sponsored by The Bachelor @GoJoeBruinUCLA @UCLAFootball\n",
      "---\n",
      "My favorite float of the #RoseParade  #HGTVNewYear #TheBachelor @TheBachelorTV @MrDrewScott @MrSilverScott https://t.co/8IZARkKdav\n",
      "---\n",
      "We ❤️ that \"Love is the Greatest Journey\" is the theme for #TheBachelor float at the #RoseParade🌹 https://t.co/q32XysMA8B\n",
      "---\n",
      "My dad's reaction to a commercial for The Bachelor - \"no wonder the terrorists want to bomb us.\"\n",
      "---\n",
      "RT @BachelorABC: Protect your hearts, ladies. Tropical storm Ben is rolling in. #TheBachelor https://t.co/QuMszmWPOr\n",
      "---\n",
      "RT PLZ\n",
      "FYI - EW Voting on Jan 05 (if) when we win this round- we will be up against either\n",
      "The Bachelor or Survivor https://t.co/kCxbuE8BLq\n",
      "---\n",
      "RT @BachelorABC: Protect your hearts, ladies. Tropical storm Ben is rolling in. #TheBachelor https://t.co/QuMszmWPOr\n",
      "---\n",
      "Sugah sugah how you get so fine? 😍 #TheBachelor https://t.co/b3cUCKGP9q\n",
      "---\n",
      "Sugah sugah how you get so fine? 😍 #TheBachelor @benhiggi https://t.co/zs198PN2W7\n",
      "---\n",
      "The Bachelor comes on Tuesday &amp; I cannot wait! 😍\n",
      "---\n",
      "RT @BachelorABC: The tears are about to start raining down. #TheBachelor premieres Monday at 8|7c on ABC. https://t.co/2P8hGVpUeJ\n",
      "---\n",
      "RT @liza_homan: The Bachelor starts Monday!! 😍♥️🙏🏼\n",
      "---\n",
      "RT @BachelorABC: Protect your hearts, ladies. Tropical storm Ben is rolling in. #TheBachelor https://t.co/QuMszmWPOr\n",
      "---\n",
      "so ready for Monday!!! #TheBachelor\n",
      "---\n",
      "The float for The Bachelor is covered in rose petals, birds of paradise, poppy seeds and syphilis.\n",
      "---\n",
      "@amandastantonnn welcome to #BachelorNation wishing you a fun time on the show. You are a lovely family #TheBachelor\n",
      "---\n",
      "If you think your heart has ever been broken, just watch The Bachelor in Paradise. This show is insaaane\n",
      "---\n",
      "The #RoseParade has officially jumped the shark after decades.  How?  By having a #TheBachelor float. \n",
      "#rosebowl https://t.co/MWid8NKL6k\n",
      "---\n",
      "@benhiggi how does calling it quits on being The Bachelor and marrying me instead sound? Good?\n",
      "---\n",
      "RT @BachelorABC: Here comes your man, #BachelorNation. Catch @benhiggi on #TheBachelor float at the #RoseParade today at 11 AM EST and 8 AM…\n",
      "---\n",
      "\"Why is there a hot tub? Do you think he needs a bath?\"\n",
      "\"You tell me, honey.\" The commentators are great! :D #RoseParade #TheBachelor #Float\n",
      "---\n",
      "@benhiggi can you call it quits on being The Bachelor and marry me instead? ❤\n",
      "---\n",
      "@benhiggi can you call it quits on being The Bachelor and marry me instead? ❤❤\n",
      "---\n",
      "I need to get a tv back in my room just so I can watch The Bachelor without being interrupted\n",
      "---\n",
      "'Tournament of Roses Parade 2016' Live Online: How To Watch 'The Bachelor', Disneyland &amp; More ... https://t.co/EDDXkF8uSh #TheBachelor\n",
      "---\n",
      "\"Love is the greatest journey.\" We can't wait to watch #TheBachelor @benhiggi's journey begin on January 4th!🌹 https://t.co/0wmVpU49Ky\n",
      "---\n",
      "Brent &amp; The Bachelor #STANvsIOWA #RoseBowl\n",
      "---\n",
      "RT @_kelseylund: Just three short days until The Bachelor starts 😋😍\n",
      "---\n",
      "Anyone else excited for Monday night? Cause ya know #TheBachelor is on 😉🌹\n",
      "---\n",
      "#TheBachelor the girl that doesn't get chosen should know that she is #beautiful #confident &amp; #intelligent @TheBachelorTV @ITVBe #newyear\n",
      "---\n",
      "holy freaking crap, i can't wait until monday. #TheBachelor\n",
      "---\n",
      "RT @cwesnouzz: That moment when you know you're gonna have to tell your boo that you're busy every Monday night cause the new #TheBachelor …\n",
      "---\n",
      "RT @LaurenHagarty: Less than one week til #TheBachelor is back 😁🙌🏻😍😘\n",
      "---\n",
      "😬 #2DayFM Sam Frost says The Bachelorette ruined her hair after having it styled FOUR  # # # - Daily Mail ❤https://t.co/XUYjDzADqh❤😪😬\n",
      "---\n",
      "So #CBB and #TheBachelor are both back on next week. Why do all good things come at once. Can't take it 😁😁😁 #newyearequalstvshowsreturning\n",
      "---\n",
      "Happy New Year, Bachelor Nation – The Bachelor https://t.co/eHVPVYYWL8 #Bachelor https://t.co/ABZtadViEy\n",
      "---\n",
      "RT @TheFinalRose: Watching #hgtv and have decided that next season all #TheBachelor ladies should have to live together in a tiny house ins…\n",
      "---\n",
      "RT @Hilton_South: Jesse Palmer's season of The Bachelor &gt; #RoseBowl\n",
      "---\n",
      "😳 #2DayFM Sam Frost says The Bachelorette ruined her hair after having it styled FOUR  # # # - Daily Mail 😳❤❤❤ ❤❤❤https://t.co/XmvxrNmJIe😡\n",
      "---\n",
      "Wish #1 to get to watch The Bachelor with @DCC_Kat #FavDCC #RoleModel\n",
      "---\n",
      "Print out info on the 2016 Women on #TheBachelor - Get to know them! https://t.co/nBNGPGSkY8 #Bachelor #BachelorNation\n",
      "---\n",
      "@HostofBachelor Will seasons of The Bachelor ever be available to stream? I want to watch the early seasons. Thank you sir.\n",
      "---\n",
      "@benhiggi Any chemistry between you &amp; Ashley I. ?  You both looked like you'd make a great couple on that #RoseParade #TheBachelor float.\n",
      "---\n",
      "RT @BachelorABC: Everything's coming up roses for Ben! Watch him wave his way through the #RoseParade on #TheBachelor float tomorrow! https…\n",
      "---\n",
      "RT @theyearofelan: He's the one you've Ben waiting for. #TheBachelor is back in 6 days https://t.co/d3bq2Oq1x9\n",
      "---\n",
      "#TheBachelor starts Monday and I couldn't be more excited cause @benhiggi 😍😍\n",
      "---\n",
      "Me ?\n",
      "Asshole ?\n",
      "If I Had\n",
      "2 IN 20 Kept My Promise Rate\n",
      "\n",
      "I'd Be Singing Lead Soprano\n",
      "Vienna Boy's Choir \n",
      " \n",
      "#TheBachelor\n",
      "https://t.co/OOBOX9encK\n",
      "---\n",
      "RT @plenseh_tay: The Bachelor season premiere is in 3 days 😍\n",
      "---\n",
      "3 days till The Bachelor premiere... Can't wait to hear @jimmykimmel 's predictions 😉\n",
      "---\n",
      "@benhiggi all I want is for you to call it quits on being #TheBachelor and marry me instead 😍\n",
      "---\n",
      "@benhiggi can you please call it quits on being The Bachelor and marry me instead? i love you 😍\n",
      "---\n",
      "RT @BachelorABC: The tears are about to start raining down. #TheBachelor premieres Monday at 8|7c on ABC. https://t.co/2P8hGVpUeJ\n",
      "---\n"
     ]
    }
   ],
   "source": [
    "for i in range(0,len(data)):\n",
    "    print(data[i]['text'])\n",
    "    print('---')"
   ]
  },
  {
   "cell_type": "code",
   "execution_count": 15,
   "metadata": {},
   "outputs": [],
   "source": [
    "#https://www.geeksforgeeks.org/twitter-sentiment-analysis-using-python/"
   ]
  },
  {
   "cell_type": "code",
   "execution_count": 5,
   "metadata": {},
   "outputs": [],
   "source": [
    "def clean_tweet(tweet): \n",
    "        return ' '.join(re.sub(\"(@[A-Za-z0-9]+)|([^0-9A-Za-z \\t])|(\\w+:\\/\\/\\S+)\", \" \", tweet).split()) \n",
    "  "
   ]
  },
  {
   "cell_type": "code",
   "execution_count": 6,
   "metadata": {},
   "outputs": [],
   "source": [
    "def get_tweet_sentiment(tweet): \n",
    "        ''' \n",
    "        Utility function to classify sentiment of passed tweet \n",
    "        using textblob's sentiment method \n",
    "        '''\n",
    "        # create TextBlob object of passed tweet text \n",
    "        analysis = TextBlob(clean_tweet(tweet)) \n",
    "        # set sentiment \n",
    "        if analysis.sentiment.polarity > 0: \n",
    "            return 'positive'\n",
    "        elif analysis.sentiment.polarity == 0: \n",
    "            return 'neutral'\n",
    "        else: \n",
    "            return 'negative'"
   ]
  },
  {
   "cell_type": "code",
   "execution_count": 7,
   "metadata": {},
   "outputs": [],
   "source": [
    "sentiment = []\n",
    "for i in range(0,len(data)):\n",
    "    sentiment.append(get_tweet_sentiment(data[i]['text']))"
   ]
  },
  {
   "cell_type": "code",
   "execution_count": 8,
   "metadata": {},
   "outputs": [
    {
     "data": {
      "image/png": "[encoded data removed]",
      "text/plain": [
       "<Figure size 432x288 with 1 Axes>"
      ]
     },
     "metadata": {},
     "output_type": "display_data"
    }
   ],
   "source": [
    "sns.countplot(sentiment)\n",
    "plt.savefig('sentimentexample')"
   ]
  },
  {
   "cell_type": "code",
   "execution_count": 9,
   "metadata": {},
   "outputs": [
    {
     "data": {
      "text/plain": [
       "'positive'"
      ]
     },
     "execution_count": 9,
     "metadata": {},
     "output_type": "execute_result"
    }
   ],
   "source": [
    "sentiment[88]"
   ]
  },
  {
   "cell_type": "code",
   "execution_count": 11,
   "metadata": {},
   "outputs": [],
   "source": [
    "from nltk.tokenize import TweetTokenizer\n",
    "tknzr = TweetTokenizer(strip_handles=True, reduce_len=True)\n",
    "wordlists = []\n",
    "for ea in range(0,len(data)):\n",
    "    wordlists.append(tknzr.tokenize(data[ea]['text']))\n",
    "wordlist = [item for sublist in wordlists for item in sublist]"
   ]
  },
  {
   "cell_type": "code",
   "execution_count": 12,
   "metadata": {},
   "outputs": [],
   "source": [
    "cts = collections.Counter(wordlist)"
   ]
  },
  {
   "cell_type": "code",
   "execution_count": 14,
   "metadata": {},
   "outputs": [
    {
     "data": {
      "text/plain": [
       "[('#TheBachelor', 55),\n",
       " ('The', 43),\n",
       " ('.', 38),\n",
       " (':', 37),\n",
       " ('!', 36),\n",
       " ('Bachelor', 35),\n",
       " ('?', 34),\n",
       " ('RT', 33),\n",
       " ('on', 25),\n",
       " ('the', 22),\n",
       " ('to', 21),\n",
       " ('is', 20),\n",
       " ('and', 18),\n",
       " ('Ben', 16),\n",
       " ('for', 15),\n",
       " (',', 15),\n",
       " (\"'\", 15),\n",
       " ('…', 15),\n",
       " ('#RoseParade', 15),\n",
       " ('\"', 14),\n",
       " ('in', 14),\n",
       " ('it', 14),\n",
       " ('I', 14),\n",
       " ('you', 14),\n",
       " ('Is', 13)]"
      ]
     },
     "execution_count": 14,
     "metadata": {},
     "output_type": "execute_result"
    }
   ],
   "source": [
    "cts.most_common(25)"
   ]
  },
  {
   "cell_type": "code",
   "execution_count": null,
   "metadata": {},
   "outputs": [],
   "source": []
  }
 ],
 "metadata": {
  "kernelspec": {
   "display_name": "Python 3",
   "language": "python",
   "name": "python3"
  },
  "language_info": {
   "codemirror_mode": {
    "name": "ipython",
    "version": 3
   },
   "file_extension": ".py",
   "mimetype": "text/x-python",
   "name": "python",
   "nbconvert_exporter": "python",
   "pygments_lexer": "ipython3",
   "version": "3.6.5"
  }
 },
 "nbformat": 4,
 "nbformat_minor": 2
}
