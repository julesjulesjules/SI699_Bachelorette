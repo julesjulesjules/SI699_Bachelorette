{
 "cells": [
  {
   "cell_type": "markdown",
   "metadata": {},
   "source": [
    "# Iterative Random Forest Prediction\n",
    "### Using Bachelorette Data, Predicts the Winner Each Week"
   ]
  },
  {
   "cell_type": "code",
   "execution_count": 1,
   "metadata": {},
   "outputs": [],
   "source": [
    "# load in libraries\n",
    "import pandas as pd\n",
    "import numpy as np\n",
    "%matplotlib inline\n",
    "import scipy as sp\n",
    "import sklearn as sk\n",
    "from sklearn.model_selection import train_test_split\n",
    "from sklearn.model_selection import cross_val_score\n",
    "import sklearn.ensemble as skens\n",
    "import sklearn.metrics as skmetric\n",
    "import sklearn.naive_bayes as sknb\n",
    "import sklearn.tree as sktree\n",
    "import matplotlib.pyplot as plt\n",
    "import seaborn as sns\n",
    "sns.set(style='white', color_codes=True, font_scale=1.3)\n",
    "import sklearn.externals.six as sksix\n",
    "import IPython.display as ipd\n",
    "from sklearn.model_selection import cross_val_score\n",
    "from sklearn import metrics\n",
    "import os"
   ]
  },
  {
   "cell_type": "code",
   "execution_count": 32,
   "metadata": {},
   "outputs": [],
   "source": [
    "# load in data files\n",
    "bachelorette = pd.read_csv('bachelorette_forprediction.csv')"
   ]
  },
  {
   "cell_type": "code",
   "execution_count": 33,
   "metadata": {},
   "outputs": [
    {
     "data": {
      "text/plain": [
       "Index(['Unnamed: 0', 'SHOW', 'SEASON', 'ETTE_NAME', 'CONTESTANT', 'NAME',\n",
       "       'AGE', 'ELIMINATION-1', 'ELIMINATION-2', 'ELIMINATION-3',\n",
       "       'ELIMINATION-4', 'ELIMINATION-5', 'ELIMINATION-6', 'ELIMINATION-7',\n",
       "       'ELIMINATION-8', 'ELIMINATION-9', 'ELIMINATION-10', 'DATES-1',\n",
       "       'DATES-2', 'DATES-3', 'DATES-4', 'DATES-5', 'DATES-6', 'DATES-7',\n",
       "       'DATES-8', 'DATES-9', 'DATES-10', 'FIR-1', 'FIR-2', 'FIR-3', 'FIR-4',\n",
       "       'FIR-5', 'FIR-6', 'FIR-7', 'FIR-8', 'FIR-9', 'FIR-10', 'ROSE-1',\n",
       "       'ROSE-2', 'ROSE-3', 'ROSE-4', 'ROSE-5', 'ROSE-6', 'ROSE-7', 'ROSE-8',\n",
       "       'ROSE-9', 'ROSE-10', 'AGE_DIFF', 'AGE_DIFF_MEAN_POOL', 'AGE_DIFF_CAT',\n",
       "       'SAME_CITY', 'SAME_STATE', 'SAME_REGION', 'SAME_OCCUPATIONGROUP',\n",
       "       'WINNER'],\n",
       "      dtype='object')"
      ]
     },
     "execution_count": 33,
     "metadata": {},
     "output_type": "execute_result"
    }
   ],
   "source": [
    "bachelorette.columns"
   ]
  },
  {
   "cell_type": "code",
   "execution_count": 34,
   "metadata": {},
   "outputs": [
    {
     "data": {
      "text/plain": [
       "Unnamed: 0                int64\n",
       "SHOW                     object\n",
       "SEASON                    int64\n",
       "ETTE_NAME                object\n",
       "CONTESTANT               object\n",
       "NAME                     object\n",
       "AGE                       int64\n",
       "ELIMINATION-1            object\n",
       "ELIMINATION-2            object\n",
       "ELIMINATION-3            object\n",
       "ELIMINATION-4            object\n",
       "ELIMINATION-5            object\n",
       "ELIMINATION-6            object\n",
       "ELIMINATION-7            object\n",
       "ELIMINATION-8            object\n",
       "ELIMINATION-9            object\n",
       "ELIMINATION-10           object\n",
       "DATES-1                 float64\n",
       "DATES-2                 float64\n",
       "DATES-3                 float64\n",
       "DATES-4                 float64\n",
       "DATES-5                 float64\n",
       "DATES-6                 float64\n",
       "DATES-7                 float64\n",
       "DATES-8                 float64\n",
       "DATES-9                 float64\n",
       "DATES-10                float64\n",
       "FIR-1                     int64\n",
       "FIR-2                     int64\n",
       "FIR-3                     int64\n",
       "FIR-4                     int64\n",
       "FIR-5                     int64\n",
       "FIR-6                     int64\n",
       "FIR-7                     int64\n",
       "FIR-8                     int64\n",
       "FIR-9                     int64\n",
       "FIR-10                    int64\n",
       "ROSE-1                    int64\n",
       "ROSE-2                    int64\n",
       "ROSE-3                    int64\n",
       "ROSE-4                    int64\n",
       "ROSE-5                    int64\n",
       "ROSE-6                    int64\n",
       "ROSE-7                    int64\n",
       "ROSE-8                    int64\n",
       "ROSE-9                    int64\n",
       "ROSE-10                   int64\n",
       "AGE_DIFF                float64\n",
       "AGE_DIFF_MEAN_POOL      float64\n",
       "AGE_DIFF_CAT              int64\n",
       "SAME_CITY                 int64\n",
       "SAME_STATE                int64\n",
       "SAME_REGION               int64\n",
       "SAME_OCCUPATIONGROUP      int64\n",
       "WINNER                    int64\n",
       "dtype: object"
      ]
     },
     "execution_count": 34,
     "metadata": {},
     "output_type": "execute_result"
    }
   ],
   "source": [
    "bachelorette.dtypes"
   ]
  },
  {
   "cell_type": "markdown",
   "metadata": {},
   "source": [
    "## Prediction System"
   ]
  },
  {
   "cell_type": "code",
   "execution_count": 39,
   "metadata": {},
   "outputs": [
    {
     "name": "stderr",
     "output_type": "stream",
     "text": [
      "C:\\Users\\julie\\Anaconda3\\lib\\site-packages\\sklearn\\ensemble\\forest.py:453: UserWarning: Some inputs do not have OOB scores. This probably means too few trees were used to compute any reliable oob estimates.\n",
      "  warn(\"Some inputs do not have OOB scores. \"\n",
      "C:\\Users\\julie\\Anaconda3\\lib\\site-packages\\sklearn\\ensemble\\forest.py:458: RuntimeWarning: invalid value encountered in true_divide\n",
      "  predictions[k].sum(axis=1)[:, np.newaxis])\n",
      "C:\\Users\\julie\\Anaconda3\\lib\\site-packages\\sklearn\\ensemble\\forest.py:453: UserWarning: Some inputs do not have OOB scores. This probably means too few trees were used to compute any reliable oob estimates.\n",
      "  warn(\"Some inputs do not have OOB scores. \"\n",
      "C:\\Users\\julie\\Anaconda3\\lib\\site-packages\\sklearn\\ensemble\\forest.py:458: RuntimeWarning: invalid value encountered in true_divide\n",
      "  predictions[k].sum(axis=1)[:, np.newaxis])\n",
      "C:\\Users\\julie\\Anaconda3\\lib\\site-packages\\sklearn\\ensemble\\forest.py:453: UserWarning: Some inputs do not have OOB scores. This probably means too few trees were used to compute any reliable oob estimates.\n",
      "  warn(\"Some inputs do not have OOB scores. \"\n"
     ]
    },
    {
     "name": "stdout",
     "output_type": "stream",
     "text": [
      "WINNER:\n",
      "0    Jordan Rodgers\n",
      "Name: NAME, dtype: object\n",
      "\n",
      "\n",
      "WEEK 1\n",
      "PREDICTED WINNER:\n",
      "Series([], Name: NAME, dtype: object)\n",
      "\n",
      "\n",
      "WEEK 2\n",
      "PREDICTED WINNER:\n",
      "4    James Taylor\n",
      "Name: NAME, dtype: object\n",
      "\n",
      "\n",
      "WEEK 3\n",
      "PREDICTED WINNER:\n",
      "Series([], Name: NAME, dtype: object)\n",
      "\n",
      "\n",
      "WEEK 4\n",
      "PREDICTED WINNER:\n",
      "4    James Taylor\n",
      "Name: NAME, dtype: object\n",
      "\n",
      "\n",
      "WEEK 5\n",
      "PREDICTED WINNER:\n"
     ]
    },
    {
     "name": "stderr",
     "output_type": "stream",
     "text": [
      "C:\\Users\\julie\\Anaconda3\\lib\\site-packages\\sklearn\\ensemble\\forest.py:458: RuntimeWarning: invalid value encountered in true_divide\n",
      "  predictions[k].sum(axis=1)[:, np.newaxis])\n",
      "C:\\Users\\julie\\Anaconda3\\lib\\site-packages\\sklearn\\ensemble\\forest.py:453: UserWarning: Some inputs do not have OOB scores. This probably means too few trees were used to compute any reliable oob estimates.\n",
      "  warn(\"Some inputs do not have OOB scores. \"\n"
     ]
    },
    {
     "name": "stdout",
     "output_type": "stream",
     "text": [
      "Series([], Name: NAME, dtype: object)\n",
      "\n",
      "\n",
      "WEEK 6\n",
      "PREDICTED WINNER:\n",
      "Series([], Name: NAME, dtype: object)\n",
      "\n",
      "\n",
      "WEEK 7\n",
      "PREDICTED WINNER:\n",
      "Series([], Name: NAME, dtype: object)\n",
      "\n",
      "\n",
      "WEEK 8\n",
      "PREDICTED WINNER:\n",
      "0    Jordan Rodgers\n",
      "Name: NAME, dtype: object\n",
      "\n",
      "\n",
      "WEEK 9\n",
      "PREDICTED WINNER:\n",
      "0    Jordan Rodgers\n",
      "Name: NAME, dtype: object\n",
      "\n",
      "\n",
      "WEEK 10\n",
      "PREDICTED WINNER:\n",
      "0    Jordan Rodgers\n",
      "1       Robby Hayes\n",
      "Name: NAME, dtype: object\n",
      "\n",
      "\n"
     ]
    },
    {
     "name": "stderr",
     "output_type": "stream",
     "text": [
      "C:\\Users\\julie\\Anaconda3\\lib\\site-packages\\sklearn\\ensemble\\forest.py:458: RuntimeWarning: invalid value encountered in true_divide\n",
      "  predictions[k].sum(axis=1)[:, np.newaxis])\n"
     ]
    }
   ],
   "source": [
    "test_bach = bachelorette[bachelorette.SEASON == 12].copy()\n",
    "train_bach = bachelorette[bachelorette.SEASON != 12].copy()\n",
    "\n",
    "week = 1\n",
    "# 'Occupation', 'Agreement_1', 'Hometown'\n",
    "vars_to_use = ['WINNER', 'NAME', 'AGE', 'AGE_DIFF_CAT', 'SAME_STATE', 'SAME_REGION', 'SAME_OCCUPATIONGROUP'] ### will need  to add other relevant predictor variables \n",
    "\n",
    "while week <= 10: # ten weeks of data available\n",
    "        \n",
    "\n",
    "    new_var = 'FIR-' + str(week)\n",
    "    vars_to_use.append(new_var)\n",
    "    \n",
    "    new_var = 'ROSE-' + str(week)\n",
    "    vars_to_use.append(new_var)\n",
    "    \n",
    "    \n",
    "    new_var = 'DATES-' + str(week)\n",
    "    vars_to_use.append(new_var)\n",
    "    \n",
    "    # create model\n",
    "    rf_model = skens.RandomForestClassifier(n_estimators=10,oob_score=True, criterion='entropy')\n",
    "    \n",
    "    # train on correct variables based on week\n",
    "    ### need 'WINNER' binary as right/wrong\n",
    "    this_train = train_bach[vars_to_use].copy()\n",
    "    \n",
    "    #print(vars_to_use[1:])\n",
    "\n",
    "    # train model on our train set\n",
    "    rf_model.fit(this_train[vars_to_use[2:]], this_train.WINNER)\n",
    "    \n",
    "    # set up test set\n",
    "    this_test = test_bach[vars_to_use].copy()\n",
    "    \n",
    "    # test on correct variables based on week\n",
    "    # hide winners\n",
    "    predicted_labels = rf_model.predict(this_test[vars_to_use[2:]])\n",
    "    \n",
    "    # add in predictions\n",
    "    this_test['PREDICTED'] = predicted_labels\n",
    "    \n",
    "    if week == 1:\n",
    "        print('WINNER:')\n",
    "        print(this_test.query('WINNER==1')['NAME'])\n",
    "        print('\\n')\n",
    "    print('WEEK {}'.format(week))\n",
    "    print(\"PREDICTED WINNER:\")\n",
    "    print(this_test.query('PREDICTED==1')['NAME'])\n",
    "    print('\\n')\n",
    "    #print(this_test[['PREDICTED', 'WINNER']])\n",
    "    \n",
    "    # remove contestants based on ELIMINATION\n",
    "    e_week_name = 'ELIMINATION-' + str(week)\n",
    "    \n",
    "    # keep them if their elimination value is null or is R (rose)\n",
    "    test_bach = test_bach[(test_bach[e_week_name].isnull()) | (test_bach[e_week_name] == 'R') | (test_bach[e_week_name] == 'R1')]\n",
    "    train_bach = train_bach[(train_bach[e_week_name].isnull()) | (train_bach[e_week_name] == 'R') | (train_bach[e_week_name] == 'R1')]\n",
    "    #print(len(test_bach))\n",
    "    #print(len(train_bach))\n",
    "    \n",
    "    # increment time\n",
    "    week = week + 1\n"
   ]
  },
  {
   "cell_type": "code",
   "execution_count": null,
   "metadata": {},
   "outputs": [],
   "source": []
  }
 ],
 "metadata": {
  "kernelspec": {
   "display_name": "Python 3",
   "language": "python",
   "name": "python3"
  },
  "language_info": {
   "codemirror_mode": {
    "name": "ipython",
    "version": 3
   },
   "file_extension": ".py",
   "mimetype": "text/x-python",
   "name": "python",
   "nbconvert_exporter": "python",
   "pygments_lexer": "ipython3",
   "version": "3.6.5"
  }
 },
 "nbformat": 4,
 "nbformat_minor": 2
}
